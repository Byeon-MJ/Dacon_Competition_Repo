{
  "nbformat": 4,
  "nbformat_minor": 0,
  "metadata": {
    "colab": {
      "provenance": [],
      "authorship_tag": "ABX9TyMNu0aMkHG5tiNTeBkLClxL",
      "include_colab_link": true
    },
    "kernelspec": {
      "name": "python3",
      "display_name": "Python 3"
    },
    "language_info": {
      "name": "python"
    },
    "gpuClass": "standard"
  },
  "cells": [
    {
      "cell_type": "markdown",
      "metadata": {
        "id": "view-in-github",
        "colab_type": "text"
      },
      "source": [
        "<a href=\"https://colab.research.google.com/github/Byeon-MJ/Dacon_SNP_Repo/blob/main/Dacon_SNP_Classification.ipynb\" target=\"_parent\"><img src=\"https://colab.research.google.com/assets/colab-badge.svg\" alt=\"Open In Colab\"/></a>"
      ]
    },
    {
      "cell_type": "markdown",
      "source": [
        "# Dacon Single Nucleotide Polymorphism Classification"
      ],
      "metadata": {
        "id": "nGkjkmJxg3ur"
      }
    },
    {
      "cell_type": "markdown",
      "source": [
        "## 더 해볼 것\n",
        "- Grid Search\n",
        "- LightGBM, 앙상블\n",
        "- Hyper Parameter Tuning"
      ],
      "metadata": {
        "id": "7BtK65_EsWbN"
      }
    },
    {
      "cell_type": "markdown",
      "source": [
        "## Module Import"
      ],
      "metadata": {
        "id": "TUbdSA8ZXBEt"
      }
    },
    {
      "cell_type": "code",
      "execution_count": null,
      "metadata": {
        "id": "s-yF8BmCakJ2"
      },
      "outputs": [],
      "source": [
        "import numpy as np\n",
        "import pandas as pd\n",
        "import matplotlib.pyplot as plt\n",
        "import seaborn as sns\n",
        "import random\n",
        "import os\n",
        "\n",
        "from sklearn.tree import DecisionTreeClassifier, plot_tree\n",
        "from sklearn.model_selection import train_test_split\n",
        "from sklearn.metrics import accuracy_score, confusion_matrix\n",
        "from sklearn import preprocessing"
      ]
    },
    {
      "cell_type": "code",
      "source": [
        "from google.colab import drive\n",
        "drive.mount('/content/gdrive')"
      ],
      "metadata": {
        "id": "Te4r22-wavK7",
        "colab": {
          "base_uri": "https://localhost:8080/"
        },
        "outputId": "02b8a3bc-19ce-4526-a014-8c132b85014f"
      },
      "execution_count": null,
      "outputs": [
        {
          "output_type": "stream",
          "name": "stdout",
          "text": [
            "Drive already mounted at /content/gdrive; to attempt to forcibly remount, call drive.mount(\"/content/gdrive\", force_remount=True).\n"
          ]
        }
      ]
    },
    {
      "cell_type": "markdown",
      "source": [
        "## DataSet Load"
      ],
      "metadata": {
        "id": "XNhHcIXjXQon"
      }
    },
    {
      "cell_type": "code",
      "source": [
        "train = pd.read_csv('/content/gdrive/MyDrive/Project/Dacon_SNP/dataset/train.csv')\n",
        "test = pd.read_csv('/content/gdrive/MyDrive/Project/Dacon_SNP/dataset/test.csv')\n",
        "info = pd.read_csv('/content/gdrive/MyDrive/Project/Dacon_SNP/dataset/snp_info.csv')"
      ],
      "metadata": {
        "id": "qUqlT-r-a2M4"
      },
      "execution_count": null,
      "outputs": []
    },
    {
      "cell_type": "code",
      "source": [
        "train.head()"
      ],
      "metadata": {
        "id": "ITnw_RBybqv6",
        "colab": {
          "base_uri": "https://localhost:8080/",
          "height": 299
        },
        "outputId": "3be3fedf-4733-41ea-c885-1994069b6f16"
      },
      "execution_count": null,
      "outputs": [
        {
          "output_type": "execute_result",
          "data": {
            "text/plain": [
              "          id  father  mother  gender  trait SNP_01 SNP_02 SNP_03 SNP_04  \\\n",
              "0  TRAIN_000       0       0       0      2    G G    A G    A A    G A   \n",
              "1  TRAIN_001       0       0       0      2    A G    A G    C A    A A   \n",
              "2  TRAIN_002       0       0       0      2    G G    G G    A A    G A   \n",
              "3  TRAIN_003       0       0       0      1    A A    G G    A A    G A   \n",
              "4  TRAIN_004       0       0       0      2    G G    G G    C C    A A   \n",
              "\n",
              "  SNP_05  ... SNP_07 SNP_08 SNP_09 SNP_10 SNP_11 SNP_12 SNP_13 SNP_14 SNP_15  \\\n",
              "0    C A  ...    A A    G G    A A    G G    A G    A A    A A    A A    A A   \n",
              "1    A A  ...    A A    G A    A A    A G    A A    G A    G G    A A    A A   \n",
              "2    C C  ...    A A    G A    G A    A G    A A    A A    A A    A A    A A   \n",
              "3    A A  ...    G G    A A    G G    A G    G G    G G    G G    A A    G G   \n",
              "4    C C  ...    A A    A A    A A    G G    A A    A A    A G    A A    G A   \n",
              "\n",
              "  class  \n",
              "0     B  \n",
              "1     C  \n",
              "2     B  \n",
              "3     A  \n",
              "4     C  \n",
              "\n",
              "[5 rows x 21 columns]"
            ],
            "text/html": [
              "\n",
              "  <div id=\"df-ee25f9a2-5ac1-436d-bf6b-2724fb680e43\">\n",
              "    <div class=\"colab-df-container\">\n",
              "      <div>\n",
              "<style scoped>\n",
              "    .dataframe tbody tr th:only-of-type {\n",
              "        vertical-align: middle;\n",
              "    }\n",
              "\n",
              "    .dataframe tbody tr th {\n",
              "        vertical-align: top;\n",
              "    }\n",
              "\n",
              "    .dataframe thead th {\n",
              "        text-align: right;\n",
              "    }\n",
              "</style>\n",
              "<table border=\"1\" class=\"dataframe\">\n",
              "  <thead>\n",
              "    <tr style=\"text-align: right;\">\n",
              "      <th></th>\n",
              "      <th>id</th>\n",
              "      <th>father</th>\n",
              "      <th>mother</th>\n",
              "      <th>gender</th>\n",
              "      <th>trait</th>\n",
              "      <th>SNP_01</th>\n",
              "      <th>SNP_02</th>\n",
              "      <th>SNP_03</th>\n",
              "      <th>SNP_04</th>\n",
              "      <th>SNP_05</th>\n",
              "      <th>...</th>\n",
              "      <th>SNP_07</th>\n",
              "      <th>SNP_08</th>\n",
              "      <th>SNP_09</th>\n",
              "      <th>SNP_10</th>\n",
              "      <th>SNP_11</th>\n",
              "      <th>SNP_12</th>\n",
              "      <th>SNP_13</th>\n",
              "      <th>SNP_14</th>\n",
              "      <th>SNP_15</th>\n",
              "      <th>class</th>\n",
              "    </tr>\n",
              "  </thead>\n",
              "  <tbody>\n",
              "    <tr>\n",
              "      <th>0</th>\n",
              "      <td>TRAIN_000</td>\n",
              "      <td>0</td>\n",
              "      <td>0</td>\n",
              "      <td>0</td>\n",
              "      <td>2</td>\n",
              "      <td>G G</td>\n",
              "      <td>A G</td>\n",
              "      <td>A A</td>\n",
              "      <td>G A</td>\n",
              "      <td>C A</td>\n",
              "      <td>...</td>\n",
              "      <td>A A</td>\n",
              "      <td>G G</td>\n",
              "      <td>A A</td>\n",
              "      <td>G G</td>\n",
              "      <td>A G</td>\n",
              "      <td>A A</td>\n",
              "      <td>A A</td>\n",
              "      <td>A A</td>\n",
              "      <td>A A</td>\n",
              "      <td>B</td>\n",
              "    </tr>\n",
              "    <tr>\n",
              "      <th>1</th>\n",
              "      <td>TRAIN_001</td>\n",
              "      <td>0</td>\n",
              "      <td>0</td>\n",
              "      <td>0</td>\n",
              "      <td>2</td>\n",
              "      <td>A G</td>\n",
              "      <td>A G</td>\n",
              "      <td>C A</td>\n",
              "      <td>A A</td>\n",
              "      <td>A A</td>\n",
              "      <td>...</td>\n",
              "      <td>A A</td>\n",
              "      <td>G A</td>\n",
              "      <td>A A</td>\n",
              "      <td>A G</td>\n",
              "      <td>A A</td>\n",
              "      <td>G A</td>\n",
              "      <td>G G</td>\n",
              "      <td>A A</td>\n",
              "      <td>A A</td>\n",
              "      <td>C</td>\n",
              "    </tr>\n",
              "    <tr>\n",
              "      <th>2</th>\n",
              "      <td>TRAIN_002</td>\n",
              "      <td>0</td>\n",
              "      <td>0</td>\n",
              "      <td>0</td>\n",
              "      <td>2</td>\n",
              "      <td>G G</td>\n",
              "      <td>G G</td>\n",
              "      <td>A A</td>\n",
              "      <td>G A</td>\n",
              "      <td>C C</td>\n",
              "      <td>...</td>\n",
              "      <td>A A</td>\n",
              "      <td>G A</td>\n",
              "      <td>G A</td>\n",
              "      <td>A G</td>\n",
              "      <td>A A</td>\n",
              "      <td>A A</td>\n",
              "      <td>A A</td>\n",
              "      <td>A A</td>\n",
              "      <td>A A</td>\n",
              "      <td>B</td>\n",
              "    </tr>\n",
              "    <tr>\n",
              "      <th>3</th>\n",
              "      <td>TRAIN_003</td>\n",
              "      <td>0</td>\n",
              "      <td>0</td>\n",
              "      <td>0</td>\n",
              "      <td>1</td>\n",
              "      <td>A A</td>\n",
              "      <td>G G</td>\n",
              "      <td>A A</td>\n",
              "      <td>G A</td>\n",
              "      <td>A A</td>\n",
              "      <td>...</td>\n",
              "      <td>G G</td>\n",
              "      <td>A A</td>\n",
              "      <td>G G</td>\n",
              "      <td>A G</td>\n",
              "      <td>G G</td>\n",
              "      <td>G G</td>\n",
              "      <td>G G</td>\n",
              "      <td>A A</td>\n",
              "      <td>G G</td>\n",
              "      <td>A</td>\n",
              "    </tr>\n",
              "    <tr>\n",
              "      <th>4</th>\n",
              "      <td>TRAIN_004</td>\n",
              "      <td>0</td>\n",
              "      <td>0</td>\n",
              "      <td>0</td>\n",
              "      <td>2</td>\n",
              "      <td>G G</td>\n",
              "      <td>G G</td>\n",
              "      <td>C C</td>\n",
              "      <td>A A</td>\n",
              "      <td>C C</td>\n",
              "      <td>...</td>\n",
              "      <td>A A</td>\n",
              "      <td>A A</td>\n",
              "      <td>A A</td>\n",
              "      <td>G G</td>\n",
              "      <td>A A</td>\n",
              "      <td>A A</td>\n",
              "      <td>A G</td>\n",
              "      <td>A A</td>\n",
              "      <td>G A</td>\n",
              "      <td>C</td>\n",
              "    </tr>\n",
              "  </tbody>\n",
              "</table>\n",
              "<p>5 rows × 21 columns</p>\n",
              "</div>\n",
              "      <button class=\"colab-df-convert\" onclick=\"convertToInteractive('df-ee25f9a2-5ac1-436d-bf6b-2724fb680e43')\"\n",
              "              title=\"Convert this dataframe to an interactive table.\"\n",
              "              style=\"display:none;\">\n",
              "        \n",
              "  <svg xmlns=\"http://www.w3.org/2000/svg\" height=\"24px\"viewBox=\"0 0 24 24\"\n",
              "       width=\"24px\">\n",
              "    <path d=\"M0 0h24v24H0V0z\" fill=\"none\"/>\n",
              "    <path d=\"M18.56 5.44l.94 2.06.94-2.06 2.06-.94-2.06-.94-.94-2.06-.94 2.06-2.06.94zm-11 1L8.5 8.5l.94-2.06 2.06-.94-2.06-.94L8.5 2.5l-.94 2.06-2.06.94zm10 10l.94 2.06.94-2.06 2.06-.94-2.06-.94-.94-2.06-.94 2.06-2.06.94z\"/><path d=\"M17.41 7.96l-1.37-1.37c-.4-.4-.92-.59-1.43-.59-.52 0-1.04.2-1.43.59L10.3 9.45l-7.72 7.72c-.78.78-.78 2.05 0 2.83L4 21.41c.39.39.9.59 1.41.59.51 0 1.02-.2 1.41-.59l7.78-7.78 2.81-2.81c.8-.78.8-2.07 0-2.86zM5.41 20L4 18.59l7.72-7.72 1.47 1.35L5.41 20z\"/>\n",
              "  </svg>\n",
              "      </button>\n",
              "      \n",
              "  <style>\n",
              "    .colab-df-container {\n",
              "      display:flex;\n",
              "      flex-wrap:wrap;\n",
              "      gap: 12px;\n",
              "    }\n",
              "\n",
              "    .colab-df-convert {\n",
              "      background-color: #E8F0FE;\n",
              "      border: none;\n",
              "      border-radius: 50%;\n",
              "      cursor: pointer;\n",
              "      display: none;\n",
              "      fill: #1967D2;\n",
              "      height: 32px;\n",
              "      padding: 0 0 0 0;\n",
              "      width: 32px;\n",
              "    }\n",
              "\n",
              "    .colab-df-convert:hover {\n",
              "      background-color: #E2EBFA;\n",
              "      box-shadow: 0px 1px 2px rgba(60, 64, 67, 0.3), 0px 1px 3px 1px rgba(60, 64, 67, 0.15);\n",
              "      fill: #174EA6;\n",
              "    }\n",
              "\n",
              "    [theme=dark] .colab-df-convert {\n",
              "      background-color: #3B4455;\n",
              "      fill: #D2E3FC;\n",
              "    }\n",
              "\n",
              "    [theme=dark] .colab-df-convert:hover {\n",
              "      background-color: #434B5C;\n",
              "      box-shadow: 0px 1px 3px 1px rgba(0, 0, 0, 0.15);\n",
              "      filter: drop-shadow(0px 1px 2px rgba(0, 0, 0, 0.3));\n",
              "      fill: #FFFFFF;\n",
              "    }\n",
              "  </style>\n",
              "\n",
              "      <script>\n",
              "        const buttonEl =\n",
              "          document.querySelector('#df-ee25f9a2-5ac1-436d-bf6b-2724fb680e43 button.colab-df-convert');\n",
              "        buttonEl.style.display =\n",
              "          google.colab.kernel.accessAllowed ? 'block' : 'none';\n",
              "\n",
              "        async function convertToInteractive(key) {\n",
              "          const element = document.querySelector('#df-ee25f9a2-5ac1-436d-bf6b-2724fb680e43');\n",
              "          const dataTable =\n",
              "            await google.colab.kernel.invokeFunction('convertToInteractive',\n",
              "                                                     [key], {});\n",
              "          if (!dataTable) return;\n",
              "\n",
              "          const docLinkHtml = 'Like what you see? Visit the ' +\n",
              "            '<a target=\"_blank\" href=https://colab.research.google.com/notebooks/data_table.ipynb>data table notebook</a>'\n",
              "            + ' to learn more about interactive tables.';\n",
              "          element.innerHTML = '';\n",
              "          dataTable['output_type'] = 'display_data';\n",
              "          await google.colab.output.renderOutput(dataTable, element);\n",
              "          const docLink = document.createElement('div');\n",
              "          docLink.innerHTML = docLinkHtml;\n",
              "          element.appendChild(docLink);\n",
              "        }\n",
              "      </script>\n",
              "    </div>\n",
              "  </div>\n",
              "  "
            ]
          },
          "metadata": {},
          "execution_count": 176
        }
      ]
    },
    {
      "cell_type": "code",
      "source": [
        "train.info()"
      ],
      "metadata": {
        "id": "AJxYO30Jbu_Y",
        "colab": {
          "base_uri": "https://localhost:8080/"
        },
        "outputId": "d81f568d-f3fd-4bf3-a1a9-938f9d115bfa"
      },
      "execution_count": null,
      "outputs": [
        {
          "output_type": "stream",
          "name": "stdout",
          "text": [
            "<class 'pandas.core.frame.DataFrame'>\n",
            "RangeIndex: 262 entries, 0 to 261\n",
            "Data columns (total 21 columns):\n",
            " #   Column  Non-Null Count  Dtype \n",
            "---  ------  --------------  ----- \n",
            " 0   id      262 non-null    object\n",
            " 1   father  262 non-null    int64 \n",
            " 2   mother  262 non-null    int64 \n",
            " 3   gender  262 non-null    int64 \n",
            " 4   trait   262 non-null    int64 \n",
            " 5   SNP_01  262 non-null    object\n",
            " 6   SNP_02  262 non-null    object\n",
            " 7   SNP_03  262 non-null    object\n",
            " 8   SNP_04  262 non-null    object\n",
            " 9   SNP_05  262 non-null    object\n",
            " 10  SNP_06  262 non-null    object\n",
            " 11  SNP_07  262 non-null    object\n",
            " 12  SNP_08  262 non-null    object\n",
            " 13  SNP_09  262 non-null    object\n",
            " 14  SNP_10  262 non-null    object\n",
            " 15  SNP_11  262 non-null    object\n",
            " 16  SNP_12  262 non-null    object\n",
            " 17  SNP_13  262 non-null    object\n",
            " 18  SNP_14  262 non-null    object\n",
            " 19  SNP_15  262 non-null    object\n",
            " 20  class   262 non-null    object\n",
            "dtypes: int64(4), object(17)\n",
            "memory usage: 43.1+ KB\n"
          ]
        }
      ]
    },
    {
      "cell_type": "code",
      "source": [
        "test.head()"
      ],
      "metadata": {
        "id": "1Wt4-Pd0heQf",
        "colab": {
          "base_uri": "https://localhost:8080/",
          "height": 270
        },
        "outputId": "fbfa44b4-9f9c-4a16-b6b5-7d752c008942"
      },
      "execution_count": null,
      "outputs": [
        {
          "output_type": "execute_result",
          "data": {
            "text/plain": [
              "         id  father  mother  gender  trait SNP_01 SNP_02 SNP_03 SNP_04 SNP_05  \\\n",
              "0  TEST_000       0       0       0      1    A G    G G    A A    G A    A A   \n",
              "1  TEST_001       0       0       0      2    G G    A G    C C    G G    C C   \n",
              "2  TEST_002       0       0       0      2    G G    A G    A A    A A    C A   \n",
              "3  TEST_003       0       0       0      2    G G    A G    C A    A A    C C   \n",
              "4  TEST_004       0       0       0      1    A A    G G    A A    G G    A A   \n",
              "\n",
              "  SNP_06 SNP_07 SNP_08 SNP_09 SNP_10 SNP_11 SNP_12 SNP_13 SNP_14 SNP_15  \n",
              "0    A G    G G    G A    G A    A G    A G    G A    G G    C A    G A  \n",
              "1    A A    A A    A A    A A    G G    A G    A A    A A    A A    A A  \n",
              "2    A G    A A    A A    A A    A G    A A    G A    G G    A A    G G  \n",
              "3    A A    A A    A A    A A    G G    A A    G A    A G    A A    A A  \n",
              "4    G G    G G    A A    G G    A G    G G    G A    G G    A A    G G  "
            ],
            "text/html": [
              "\n",
              "  <div id=\"df-a4d4c7ee-bc60-41b9-83e5-34e93bfb056f\">\n",
              "    <div class=\"colab-df-container\">\n",
              "      <div>\n",
              "<style scoped>\n",
              "    .dataframe tbody tr th:only-of-type {\n",
              "        vertical-align: middle;\n",
              "    }\n",
              "\n",
              "    .dataframe tbody tr th {\n",
              "        vertical-align: top;\n",
              "    }\n",
              "\n",
              "    .dataframe thead th {\n",
              "        text-align: right;\n",
              "    }\n",
              "</style>\n",
              "<table border=\"1\" class=\"dataframe\">\n",
              "  <thead>\n",
              "    <tr style=\"text-align: right;\">\n",
              "      <th></th>\n",
              "      <th>id</th>\n",
              "      <th>father</th>\n",
              "      <th>mother</th>\n",
              "      <th>gender</th>\n",
              "      <th>trait</th>\n",
              "      <th>SNP_01</th>\n",
              "      <th>SNP_02</th>\n",
              "      <th>SNP_03</th>\n",
              "      <th>SNP_04</th>\n",
              "      <th>SNP_05</th>\n",
              "      <th>SNP_06</th>\n",
              "      <th>SNP_07</th>\n",
              "      <th>SNP_08</th>\n",
              "      <th>SNP_09</th>\n",
              "      <th>SNP_10</th>\n",
              "      <th>SNP_11</th>\n",
              "      <th>SNP_12</th>\n",
              "      <th>SNP_13</th>\n",
              "      <th>SNP_14</th>\n",
              "      <th>SNP_15</th>\n",
              "    </tr>\n",
              "  </thead>\n",
              "  <tbody>\n",
              "    <tr>\n",
              "      <th>0</th>\n",
              "      <td>TEST_000</td>\n",
              "      <td>0</td>\n",
              "      <td>0</td>\n",
              "      <td>0</td>\n",
              "      <td>1</td>\n",
              "      <td>A G</td>\n",
              "      <td>G G</td>\n",
              "      <td>A A</td>\n",
              "      <td>G A</td>\n",
              "      <td>A A</td>\n",
              "      <td>A G</td>\n",
              "      <td>G G</td>\n",
              "      <td>G A</td>\n",
              "      <td>G A</td>\n",
              "      <td>A G</td>\n",
              "      <td>A G</td>\n",
              "      <td>G A</td>\n",
              "      <td>G G</td>\n",
              "      <td>C A</td>\n",
              "      <td>G A</td>\n",
              "    </tr>\n",
              "    <tr>\n",
              "      <th>1</th>\n",
              "      <td>TEST_001</td>\n",
              "      <td>0</td>\n",
              "      <td>0</td>\n",
              "      <td>0</td>\n",
              "      <td>2</td>\n",
              "      <td>G G</td>\n",
              "      <td>A G</td>\n",
              "      <td>C C</td>\n",
              "      <td>G G</td>\n",
              "      <td>C C</td>\n",
              "      <td>A A</td>\n",
              "      <td>A A</td>\n",
              "      <td>A A</td>\n",
              "      <td>A A</td>\n",
              "      <td>G G</td>\n",
              "      <td>A G</td>\n",
              "      <td>A A</td>\n",
              "      <td>A A</td>\n",
              "      <td>A A</td>\n",
              "      <td>A A</td>\n",
              "    </tr>\n",
              "    <tr>\n",
              "      <th>2</th>\n",
              "      <td>TEST_002</td>\n",
              "      <td>0</td>\n",
              "      <td>0</td>\n",
              "      <td>0</td>\n",
              "      <td>2</td>\n",
              "      <td>G G</td>\n",
              "      <td>A G</td>\n",
              "      <td>A A</td>\n",
              "      <td>A A</td>\n",
              "      <td>C A</td>\n",
              "      <td>A G</td>\n",
              "      <td>A A</td>\n",
              "      <td>A A</td>\n",
              "      <td>A A</td>\n",
              "      <td>A G</td>\n",
              "      <td>A A</td>\n",
              "      <td>G A</td>\n",
              "      <td>G G</td>\n",
              "      <td>A A</td>\n",
              "      <td>G G</td>\n",
              "    </tr>\n",
              "    <tr>\n",
              "      <th>3</th>\n",
              "      <td>TEST_003</td>\n",
              "      <td>0</td>\n",
              "      <td>0</td>\n",
              "      <td>0</td>\n",
              "      <td>2</td>\n",
              "      <td>G G</td>\n",
              "      <td>A G</td>\n",
              "      <td>C A</td>\n",
              "      <td>A A</td>\n",
              "      <td>C C</td>\n",
              "      <td>A A</td>\n",
              "      <td>A A</td>\n",
              "      <td>A A</td>\n",
              "      <td>A A</td>\n",
              "      <td>G G</td>\n",
              "      <td>A A</td>\n",
              "      <td>G A</td>\n",
              "      <td>A G</td>\n",
              "      <td>A A</td>\n",
              "      <td>A A</td>\n",
              "    </tr>\n",
              "    <tr>\n",
              "      <th>4</th>\n",
              "      <td>TEST_004</td>\n",
              "      <td>0</td>\n",
              "      <td>0</td>\n",
              "      <td>0</td>\n",
              "      <td>1</td>\n",
              "      <td>A A</td>\n",
              "      <td>G G</td>\n",
              "      <td>A A</td>\n",
              "      <td>G G</td>\n",
              "      <td>A A</td>\n",
              "      <td>G G</td>\n",
              "      <td>G G</td>\n",
              "      <td>A A</td>\n",
              "      <td>G G</td>\n",
              "      <td>A G</td>\n",
              "      <td>G G</td>\n",
              "      <td>G A</td>\n",
              "      <td>G G</td>\n",
              "      <td>A A</td>\n",
              "      <td>G G</td>\n",
              "    </tr>\n",
              "  </tbody>\n",
              "</table>\n",
              "</div>\n",
              "      <button class=\"colab-df-convert\" onclick=\"convertToInteractive('df-a4d4c7ee-bc60-41b9-83e5-34e93bfb056f')\"\n",
              "              title=\"Convert this dataframe to an interactive table.\"\n",
              "              style=\"display:none;\">\n",
              "        \n",
              "  <svg xmlns=\"http://www.w3.org/2000/svg\" height=\"24px\"viewBox=\"0 0 24 24\"\n",
              "       width=\"24px\">\n",
              "    <path d=\"M0 0h24v24H0V0z\" fill=\"none\"/>\n",
              "    <path d=\"M18.56 5.44l.94 2.06.94-2.06 2.06-.94-2.06-.94-.94-2.06-.94 2.06-2.06.94zm-11 1L8.5 8.5l.94-2.06 2.06-.94-2.06-.94L8.5 2.5l-.94 2.06-2.06.94zm10 10l.94 2.06.94-2.06 2.06-.94-2.06-.94-.94-2.06-.94 2.06-2.06.94z\"/><path d=\"M17.41 7.96l-1.37-1.37c-.4-.4-.92-.59-1.43-.59-.52 0-1.04.2-1.43.59L10.3 9.45l-7.72 7.72c-.78.78-.78 2.05 0 2.83L4 21.41c.39.39.9.59 1.41.59.51 0 1.02-.2 1.41-.59l7.78-7.78 2.81-2.81c.8-.78.8-2.07 0-2.86zM5.41 20L4 18.59l7.72-7.72 1.47 1.35L5.41 20z\"/>\n",
              "  </svg>\n",
              "      </button>\n",
              "      \n",
              "  <style>\n",
              "    .colab-df-container {\n",
              "      display:flex;\n",
              "      flex-wrap:wrap;\n",
              "      gap: 12px;\n",
              "    }\n",
              "\n",
              "    .colab-df-convert {\n",
              "      background-color: #E8F0FE;\n",
              "      border: none;\n",
              "      border-radius: 50%;\n",
              "      cursor: pointer;\n",
              "      display: none;\n",
              "      fill: #1967D2;\n",
              "      height: 32px;\n",
              "      padding: 0 0 0 0;\n",
              "      width: 32px;\n",
              "    }\n",
              "\n",
              "    .colab-df-convert:hover {\n",
              "      background-color: #E2EBFA;\n",
              "      box-shadow: 0px 1px 2px rgba(60, 64, 67, 0.3), 0px 1px 3px 1px rgba(60, 64, 67, 0.15);\n",
              "      fill: #174EA6;\n",
              "    }\n",
              "\n",
              "    [theme=dark] .colab-df-convert {\n",
              "      background-color: #3B4455;\n",
              "      fill: #D2E3FC;\n",
              "    }\n",
              "\n",
              "    [theme=dark] .colab-df-convert:hover {\n",
              "      background-color: #434B5C;\n",
              "      box-shadow: 0px 1px 3px 1px rgba(0, 0, 0, 0.15);\n",
              "      filter: drop-shadow(0px 1px 2px rgba(0, 0, 0, 0.3));\n",
              "      fill: #FFFFFF;\n",
              "    }\n",
              "  </style>\n",
              "\n",
              "      <script>\n",
              "        const buttonEl =\n",
              "          document.querySelector('#df-a4d4c7ee-bc60-41b9-83e5-34e93bfb056f button.colab-df-convert');\n",
              "        buttonEl.style.display =\n",
              "          google.colab.kernel.accessAllowed ? 'block' : 'none';\n",
              "\n",
              "        async function convertToInteractive(key) {\n",
              "          const element = document.querySelector('#df-a4d4c7ee-bc60-41b9-83e5-34e93bfb056f');\n",
              "          const dataTable =\n",
              "            await google.colab.kernel.invokeFunction('convertToInteractive',\n",
              "                                                     [key], {});\n",
              "          if (!dataTable) return;\n",
              "\n",
              "          const docLinkHtml = 'Like what you see? Visit the ' +\n",
              "            '<a target=\"_blank\" href=https://colab.research.google.com/notebooks/data_table.ipynb>data table notebook</a>'\n",
              "            + ' to learn more about interactive tables.';\n",
              "          element.innerHTML = '';\n",
              "          dataTable['output_type'] = 'display_data';\n",
              "          await google.colab.output.renderOutput(dataTable, element);\n",
              "          const docLink = document.createElement('div');\n",
              "          docLink.innerHTML = docLinkHtml;\n",
              "          element.appendChild(docLink);\n",
              "        }\n",
              "      </script>\n",
              "    </div>\n",
              "  </div>\n",
              "  "
            ]
          },
          "metadata": {},
          "execution_count": 178
        }
      ]
    },
    {
      "cell_type": "code",
      "source": [
        "test.info()"
      ],
      "metadata": {
        "id": "GsEy2G1Ghjkn",
        "colab": {
          "base_uri": "https://localhost:8080/"
        },
        "outputId": "0021842b-4ce8-4321-a1c0-caca8f0912fa"
      },
      "execution_count": null,
      "outputs": [
        {
          "output_type": "stream",
          "name": "stdout",
          "text": [
            "<class 'pandas.core.frame.DataFrame'>\n",
            "RangeIndex: 175 entries, 0 to 174\n",
            "Data columns (total 20 columns):\n",
            " #   Column  Non-Null Count  Dtype \n",
            "---  ------  --------------  ----- \n",
            " 0   id      175 non-null    object\n",
            " 1   father  175 non-null    int64 \n",
            " 2   mother  175 non-null    int64 \n",
            " 3   gender  175 non-null    int64 \n",
            " 4   trait   175 non-null    int64 \n",
            " 5   SNP_01  175 non-null    object\n",
            " 6   SNP_02  175 non-null    object\n",
            " 7   SNP_03  175 non-null    object\n",
            " 8   SNP_04  175 non-null    object\n",
            " 9   SNP_05  175 non-null    object\n",
            " 10  SNP_06  175 non-null    object\n",
            " 11  SNP_07  175 non-null    object\n",
            " 12  SNP_08  175 non-null    object\n",
            " 13  SNP_09  175 non-null    object\n",
            " 14  SNP_10  175 non-null    object\n",
            " 15  SNP_11  175 non-null    object\n",
            " 16  SNP_12  175 non-null    object\n",
            " 17  SNP_13  175 non-null    object\n",
            " 18  SNP_14  175 non-null    object\n",
            " 19  SNP_15  175 non-null    object\n",
            "dtypes: int64(4), object(16)\n",
            "memory usage: 27.5+ KB\n"
          ]
        }
      ]
    },
    {
      "cell_type": "code",
      "source": [
        "def get_x_y(df):\n",
        "    if 'class' in df.columns:\n",
        "        df_x = df.drop(columns=['id', 'class'])\n",
        "        df_y = df['class']\n",
        "        return df_x, df_y\n",
        "    else:\n",
        "        df_x = df.drop(columns=['id'])\n",
        "        return df_x"
      ],
      "metadata": {
        "id": "YXhdjp9thkIO"
      },
      "execution_count": null,
      "outputs": []
    },
    {
      "cell_type": "code",
      "source": [
        "train_x, train_y = get_x_y(train)\n",
        "test_x = get_x_y(test)"
      ],
      "metadata": {
        "id": "zfP2om_6hvOx"
      },
      "execution_count": null,
      "outputs": []
    },
    {
      "cell_type": "code",
      "source": [
        "train_x"
      ],
      "metadata": {
        "id": "X0T-RW38hwdO",
        "colab": {
          "base_uri": "https://localhost:8080/",
          "height": 488
        },
        "outputId": "b43c5266-12d0-447a-d858-d01eea0adf3e"
      },
      "execution_count": null,
      "outputs": [
        {
          "output_type": "execute_result",
          "data": {
            "text/plain": [
              "     father  mother  gender  trait SNP_01 SNP_02 SNP_03 SNP_04 SNP_05 SNP_06  \\\n",
              "0         0       0       0      2    G G    A G    A A    G A    C A    A A   \n",
              "1         0       0       0      2    A G    A G    C A    A A    A A    A G   \n",
              "2         0       0       0      2    G G    G G    A A    G A    C C    G G   \n",
              "3         0       0       0      1    A A    G G    A A    G A    A A    G G   \n",
              "4         0       0       0      2    G G    G G    C C    A A    C C    A A   \n",
              "..      ...     ...     ...    ...    ...    ...    ...    ...    ...    ...   \n",
              "257       0       0       0      2    A G    A G    A A    G A    C C    A G   \n",
              "258       0       0       0      2    G G    A A    C A    A A    A A    A G   \n",
              "259       0       0       0      1    A G    G G    A A    G A    A A    A G   \n",
              "260       0       0       0      1    A A    G G    A A    G A    A A    G G   \n",
              "261       0       0       0      2    G G    A G    C A    G G    C C    A G   \n",
              "\n",
              "    SNP_07 SNP_08 SNP_09 SNP_10 SNP_11 SNP_12 SNP_13 SNP_14 SNP_15  \n",
              "0      A A    G G    A A    G G    A G    A A    A A    A A    A A  \n",
              "1      A A    G A    A A    A G    A A    G A    G G    A A    A A  \n",
              "2      A A    G A    G A    A G    A A    A A    A A    A A    A A  \n",
              "3      G G    A A    G G    A G    G G    G G    G G    A A    G G  \n",
              "4      A A    A A    A A    G G    A A    A A    A G    A A    G A  \n",
              "..     ...    ...    ...    ...    ...    ...    ...    ...    ...  \n",
              "257    A A    G A    A A    G G    A G    G A    A A    A A    A A  \n",
              "258    G A    G A    A A    A G    A G    A A    A G    A A    G A  \n",
              "259    G G    G A    G A    A A    G G    G G    G G    C A    G G  \n",
              "260    G G    A A    G A    A G    A G    G A    G G    C A    G G  \n",
              "261    A A    A A    A A    G G    A A    A A    G G    A A    G A  \n",
              "\n",
              "[262 rows x 19 columns]"
            ],
            "text/html": [
              "\n",
              "  <div id=\"df-63290a22-78a6-48df-9d2b-0fc87cbb9794\">\n",
              "    <div class=\"colab-df-container\">\n",
              "      <div>\n",
              "<style scoped>\n",
              "    .dataframe tbody tr th:only-of-type {\n",
              "        vertical-align: middle;\n",
              "    }\n",
              "\n",
              "    .dataframe tbody tr th {\n",
              "        vertical-align: top;\n",
              "    }\n",
              "\n",
              "    .dataframe thead th {\n",
              "        text-align: right;\n",
              "    }\n",
              "</style>\n",
              "<table border=\"1\" class=\"dataframe\">\n",
              "  <thead>\n",
              "    <tr style=\"text-align: right;\">\n",
              "      <th></th>\n",
              "      <th>father</th>\n",
              "      <th>mother</th>\n",
              "      <th>gender</th>\n",
              "      <th>trait</th>\n",
              "      <th>SNP_01</th>\n",
              "      <th>SNP_02</th>\n",
              "      <th>SNP_03</th>\n",
              "      <th>SNP_04</th>\n",
              "      <th>SNP_05</th>\n",
              "      <th>SNP_06</th>\n",
              "      <th>SNP_07</th>\n",
              "      <th>SNP_08</th>\n",
              "      <th>SNP_09</th>\n",
              "      <th>SNP_10</th>\n",
              "      <th>SNP_11</th>\n",
              "      <th>SNP_12</th>\n",
              "      <th>SNP_13</th>\n",
              "      <th>SNP_14</th>\n",
              "      <th>SNP_15</th>\n",
              "    </tr>\n",
              "  </thead>\n",
              "  <tbody>\n",
              "    <tr>\n",
              "      <th>0</th>\n",
              "      <td>0</td>\n",
              "      <td>0</td>\n",
              "      <td>0</td>\n",
              "      <td>2</td>\n",
              "      <td>G G</td>\n",
              "      <td>A G</td>\n",
              "      <td>A A</td>\n",
              "      <td>G A</td>\n",
              "      <td>C A</td>\n",
              "      <td>A A</td>\n",
              "      <td>A A</td>\n",
              "      <td>G G</td>\n",
              "      <td>A A</td>\n",
              "      <td>G G</td>\n",
              "      <td>A G</td>\n",
              "      <td>A A</td>\n",
              "      <td>A A</td>\n",
              "      <td>A A</td>\n",
              "      <td>A A</td>\n",
              "    </tr>\n",
              "    <tr>\n",
              "      <th>1</th>\n",
              "      <td>0</td>\n",
              "      <td>0</td>\n",
              "      <td>0</td>\n",
              "      <td>2</td>\n",
              "      <td>A G</td>\n",
              "      <td>A G</td>\n",
              "      <td>C A</td>\n",
              "      <td>A A</td>\n",
              "      <td>A A</td>\n",
              "      <td>A G</td>\n",
              "      <td>A A</td>\n",
              "      <td>G A</td>\n",
              "      <td>A A</td>\n",
              "      <td>A G</td>\n",
              "      <td>A A</td>\n",
              "      <td>G A</td>\n",
              "      <td>G G</td>\n",
              "      <td>A A</td>\n",
              "      <td>A A</td>\n",
              "    </tr>\n",
              "    <tr>\n",
              "      <th>2</th>\n",
              "      <td>0</td>\n",
              "      <td>0</td>\n",
              "      <td>0</td>\n",
              "      <td>2</td>\n",
              "      <td>G G</td>\n",
              "      <td>G G</td>\n",
              "      <td>A A</td>\n",
              "      <td>G A</td>\n",
              "      <td>C C</td>\n",
              "      <td>G G</td>\n",
              "      <td>A A</td>\n",
              "      <td>G A</td>\n",
              "      <td>G A</td>\n",
              "      <td>A G</td>\n",
              "      <td>A A</td>\n",
              "      <td>A A</td>\n",
              "      <td>A A</td>\n",
              "      <td>A A</td>\n",
              "      <td>A A</td>\n",
              "    </tr>\n",
              "    <tr>\n",
              "      <th>3</th>\n",
              "      <td>0</td>\n",
              "      <td>0</td>\n",
              "      <td>0</td>\n",
              "      <td>1</td>\n",
              "      <td>A A</td>\n",
              "      <td>G G</td>\n",
              "      <td>A A</td>\n",
              "      <td>G A</td>\n",
              "      <td>A A</td>\n",
              "      <td>G G</td>\n",
              "      <td>G G</td>\n",
              "      <td>A A</td>\n",
              "      <td>G G</td>\n",
              "      <td>A G</td>\n",
              "      <td>G G</td>\n",
              "      <td>G G</td>\n",
              "      <td>G G</td>\n",
              "      <td>A A</td>\n",
              "      <td>G G</td>\n",
              "    </tr>\n",
              "    <tr>\n",
              "      <th>4</th>\n",
              "      <td>0</td>\n",
              "      <td>0</td>\n",
              "      <td>0</td>\n",
              "      <td>2</td>\n",
              "      <td>G G</td>\n",
              "      <td>G G</td>\n",
              "      <td>C C</td>\n",
              "      <td>A A</td>\n",
              "      <td>C C</td>\n",
              "      <td>A A</td>\n",
              "      <td>A A</td>\n",
              "      <td>A A</td>\n",
              "      <td>A A</td>\n",
              "      <td>G G</td>\n",
              "      <td>A A</td>\n",
              "      <td>A A</td>\n",
              "      <td>A G</td>\n",
              "      <td>A A</td>\n",
              "      <td>G A</td>\n",
              "    </tr>\n",
              "    <tr>\n",
              "      <th>...</th>\n",
              "      <td>...</td>\n",
              "      <td>...</td>\n",
              "      <td>...</td>\n",
              "      <td>...</td>\n",
              "      <td>...</td>\n",
              "      <td>...</td>\n",
              "      <td>...</td>\n",
              "      <td>...</td>\n",
              "      <td>...</td>\n",
              "      <td>...</td>\n",
              "      <td>...</td>\n",
              "      <td>...</td>\n",
              "      <td>...</td>\n",
              "      <td>...</td>\n",
              "      <td>...</td>\n",
              "      <td>...</td>\n",
              "      <td>...</td>\n",
              "      <td>...</td>\n",
              "      <td>...</td>\n",
              "    </tr>\n",
              "    <tr>\n",
              "      <th>257</th>\n",
              "      <td>0</td>\n",
              "      <td>0</td>\n",
              "      <td>0</td>\n",
              "      <td>2</td>\n",
              "      <td>A G</td>\n",
              "      <td>A G</td>\n",
              "      <td>A A</td>\n",
              "      <td>G A</td>\n",
              "      <td>C C</td>\n",
              "      <td>A G</td>\n",
              "      <td>A A</td>\n",
              "      <td>G A</td>\n",
              "      <td>A A</td>\n",
              "      <td>G G</td>\n",
              "      <td>A G</td>\n",
              "      <td>G A</td>\n",
              "      <td>A A</td>\n",
              "      <td>A A</td>\n",
              "      <td>A A</td>\n",
              "    </tr>\n",
              "    <tr>\n",
              "      <th>258</th>\n",
              "      <td>0</td>\n",
              "      <td>0</td>\n",
              "      <td>0</td>\n",
              "      <td>2</td>\n",
              "      <td>G G</td>\n",
              "      <td>A A</td>\n",
              "      <td>C A</td>\n",
              "      <td>A A</td>\n",
              "      <td>A A</td>\n",
              "      <td>A G</td>\n",
              "      <td>G A</td>\n",
              "      <td>G A</td>\n",
              "      <td>A A</td>\n",
              "      <td>A G</td>\n",
              "      <td>A G</td>\n",
              "      <td>A A</td>\n",
              "      <td>A G</td>\n",
              "      <td>A A</td>\n",
              "      <td>G A</td>\n",
              "    </tr>\n",
              "    <tr>\n",
              "      <th>259</th>\n",
              "      <td>0</td>\n",
              "      <td>0</td>\n",
              "      <td>0</td>\n",
              "      <td>1</td>\n",
              "      <td>A G</td>\n",
              "      <td>G G</td>\n",
              "      <td>A A</td>\n",
              "      <td>G A</td>\n",
              "      <td>A A</td>\n",
              "      <td>A G</td>\n",
              "      <td>G G</td>\n",
              "      <td>G A</td>\n",
              "      <td>G A</td>\n",
              "      <td>A A</td>\n",
              "      <td>G G</td>\n",
              "      <td>G G</td>\n",
              "      <td>G G</td>\n",
              "      <td>C A</td>\n",
              "      <td>G G</td>\n",
              "    </tr>\n",
              "    <tr>\n",
              "      <th>260</th>\n",
              "      <td>0</td>\n",
              "      <td>0</td>\n",
              "      <td>0</td>\n",
              "      <td>1</td>\n",
              "      <td>A A</td>\n",
              "      <td>G G</td>\n",
              "      <td>A A</td>\n",
              "      <td>G A</td>\n",
              "      <td>A A</td>\n",
              "      <td>G G</td>\n",
              "      <td>G G</td>\n",
              "      <td>A A</td>\n",
              "      <td>G A</td>\n",
              "      <td>A G</td>\n",
              "      <td>A G</td>\n",
              "      <td>G A</td>\n",
              "      <td>G G</td>\n",
              "      <td>C A</td>\n",
              "      <td>G G</td>\n",
              "    </tr>\n",
              "    <tr>\n",
              "      <th>261</th>\n",
              "      <td>0</td>\n",
              "      <td>0</td>\n",
              "      <td>0</td>\n",
              "      <td>2</td>\n",
              "      <td>G G</td>\n",
              "      <td>A G</td>\n",
              "      <td>C A</td>\n",
              "      <td>G G</td>\n",
              "      <td>C C</td>\n",
              "      <td>A G</td>\n",
              "      <td>A A</td>\n",
              "      <td>A A</td>\n",
              "      <td>A A</td>\n",
              "      <td>G G</td>\n",
              "      <td>A A</td>\n",
              "      <td>A A</td>\n",
              "      <td>G G</td>\n",
              "      <td>A A</td>\n",
              "      <td>G A</td>\n",
              "    </tr>\n",
              "  </tbody>\n",
              "</table>\n",
              "<p>262 rows × 19 columns</p>\n",
              "</div>\n",
              "      <button class=\"colab-df-convert\" onclick=\"convertToInteractive('df-63290a22-78a6-48df-9d2b-0fc87cbb9794')\"\n",
              "              title=\"Convert this dataframe to an interactive table.\"\n",
              "              style=\"display:none;\">\n",
              "        \n",
              "  <svg xmlns=\"http://www.w3.org/2000/svg\" height=\"24px\"viewBox=\"0 0 24 24\"\n",
              "       width=\"24px\">\n",
              "    <path d=\"M0 0h24v24H0V0z\" fill=\"none\"/>\n",
              "    <path d=\"M18.56 5.44l.94 2.06.94-2.06 2.06-.94-2.06-.94-.94-2.06-.94 2.06-2.06.94zm-11 1L8.5 8.5l.94-2.06 2.06-.94-2.06-.94L8.5 2.5l-.94 2.06-2.06.94zm10 10l.94 2.06.94-2.06 2.06-.94-2.06-.94-.94-2.06-.94 2.06-2.06.94z\"/><path d=\"M17.41 7.96l-1.37-1.37c-.4-.4-.92-.59-1.43-.59-.52 0-1.04.2-1.43.59L10.3 9.45l-7.72 7.72c-.78.78-.78 2.05 0 2.83L4 21.41c.39.39.9.59 1.41.59.51 0 1.02-.2 1.41-.59l7.78-7.78 2.81-2.81c.8-.78.8-2.07 0-2.86zM5.41 20L4 18.59l7.72-7.72 1.47 1.35L5.41 20z\"/>\n",
              "  </svg>\n",
              "      </button>\n",
              "      \n",
              "  <style>\n",
              "    .colab-df-container {\n",
              "      display:flex;\n",
              "      flex-wrap:wrap;\n",
              "      gap: 12px;\n",
              "    }\n",
              "\n",
              "    .colab-df-convert {\n",
              "      background-color: #E8F0FE;\n",
              "      border: none;\n",
              "      border-radius: 50%;\n",
              "      cursor: pointer;\n",
              "      display: none;\n",
              "      fill: #1967D2;\n",
              "      height: 32px;\n",
              "      padding: 0 0 0 0;\n",
              "      width: 32px;\n",
              "    }\n",
              "\n",
              "    .colab-df-convert:hover {\n",
              "      background-color: #E2EBFA;\n",
              "      box-shadow: 0px 1px 2px rgba(60, 64, 67, 0.3), 0px 1px 3px 1px rgba(60, 64, 67, 0.15);\n",
              "      fill: #174EA6;\n",
              "    }\n",
              "\n",
              "    [theme=dark] .colab-df-convert {\n",
              "      background-color: #3B4455;\n",
              "      fill: #D2E3FC;\n",
              "    }\n",
              "\n",
              "    [theme=dark] .colab-df-convert:hover {\n",
              "      background-color: #434B5C;\n",
              "      box-shadow: 0px 1px 3px 1px rgba(0, 0, 0, 0.15);\n",
              "      filter: drop-shadow(0px 1px 2px rgba(0, 0, 0, 0.3));\n",
              "      fill: #FFFFFF;\n",
              "    }\n",
              "  </style>\n",
              "\n",
              "      <script>\n",
              "        const buttonEl =\n",
              "          document.querySelector('#df-63290a22-78a6-48df-9d2b-0fc87cbb9794 button.colab-df-convert');\n",
              "        buttonEl.style.display =\n",
              "          google.colab.kernel.accessAllowed ? 'block' : 'none';\n",
              "\n",
              "        async function convertToInteractive(key) {\n",
              "          const element = document.querySelector('#df-63290a22-78a6-48df-9d2b-0fc87cbb9794');\n",
              "          const dataTable =\n",
              "            await google.colab.kernel.invokeFunction('convertToInteractive',\n",
              "                                                     [key], {});\n",
              "          if (!dataTable) return;\n",
              "\n",
              "          const docLinkHtml = 'Like what you see? Visit the ' +\n",
              "            '<a target=\"_blank\" href=https://colab.research.google.com/notebooks/data_table.ipynb>data table notebook</a>'\n",
              "            + ' to learn more about interactive tables.';\n",
              "          element.innerHTML = '';\n",
              "          dataTable['output_type'] = 'display_data';\n",
              "          await google.colab.output.renderOutput(dataTable, element);\n",
              "          const docLink = document.createElement('div');\n",
              "          docLink.innerHTML = docLinkHtml;\n",
              "          element.appendChild(docLink);\n",
              "        }\n",
              "      </script>\n",
              "    </div>\n",
              "  </div>\n",
              "  "
            ]
          },
          "metadata": {},
          "execution_count": 182
        }
      ]
    },
    {
      "cell_type": "code",
      "source": [
        "train_y"
      ],
      "metadata": {
        "id": "avwojDR-hySO",
        "colab": {
          "base_uri": "https://localhost:8080/"
        },
        "outputId": "d50b95f0-945f-407d-9a63-77879ae6dc3f"
      },
      "execution_count": null,
      "outputs": [
        {
          "output_type": "execute_result",
          "data": {
            "text/plain": [
              "0      B\n",
              "1      C\n",
              "2      B\n",
              "3      A\n",
              "4      C\n",
              "      ..\n",
              "257    B\n",
              "258    C\n",
              "259    A\n",
              "260    A\n",
              "261    B\n",
              "Name: class, Length: 262, dtype: object"
            ]
          },
          "metadata": {},
          "execution_count": 183
        }
      ]
    },
    {
      "cell_type": "markdown",
      "source": [
        "## Label Encoding"
      ],
      "metadata": {
        "id": "0zgN1jPoh4_e"
      }
    },
    {
      "cell_type": "code",
      "source": [
        "class_le = preprocessing.LabelEncoder()\n",
        "snp_le = preprocessing.LabelEncoder()\n",
        "snp_col = [f'SNP_{str(x).zfill(2)}' for x in range(1,16)]"
      ],
      "metadata": {
        "id": "l_11ZPK3h-1f"
      },
      "execution_count": null,
      "outputs": []
    },
    {
      "cell_type": "code",
      "source": [
        "snp_col"
      ],
      "metadata": {
        "id": "yxwALm9niCPX",
        "colab": {
          "base_uri": "https://localhost:8080/"
        },
        "outputId": "875c6687-7e58-4ff5-b531-c2e4d3cb502a"
      },
      "execution_count": null,
      "outputs": [
        {
          "output_type": "execute_result",
          "data": {
            "text/plain": [
              "['SNP_01',\n",
              " 'SNP_02',\n",
              " 'SNP_03',\n",
              " 'SNP_04',\n",
              " 'SNP_05',\n",
              " 'SNP_06',\n",
              " 'SNP_07',\n",
              " 'SNP_08',\n",
              " 'SNP_09',\n",
              " 'SNP_10',\n",
              " 'SNP_11',\n",
              " 'SNP_12',\n",
              " 'SNP_13',\n",
              " 'SNP_14',\n",
              " 'SNP_15']"
            ]
          },
          "metadata": {},
          "execution_count": 185
        }
      ]
    },
    {
      "cell_type": "code",
      "source": [
        "train_data = []\n",
        "for col in snp_col:\n",
        "    train_data += list(train_x[col].values)"
      ],
      "metadata": {
        "id": "_uTJwtyciDev"
      },
      "execution_count": null,
      "outputs": []
    },
    {
      "cell_type": "code",
      "source": [
        "train_y = class_le.fit_transform(train_y)\n",
        "snp_le.fit(train_data)"
      ],
      "metadata": {
        "id": "3AtMkToLiKHe",
        "colab": {
          "base_uri": "https://localhost:8080/"
        },
        "outputId": "bf8a8f6b-b1b6-4017-9a0c-15f2e0664644"
      },
      "execution_count": null,
      "outputs": [
        {
          "output_type": "execute_result",
          "data": {
            "text/plain": [
              "LabelEncoder()"
            ]
          },
          "metadata": {},
          "execution_count": 187
        }
      ]
    },
    {
      "cell_type": "code",
      "source": [
        "train_x.columns"
      ],
      "metadata": {
        "id": "2lH0aJp0iRBe",
        "colab": {
          "base_uri": "https://localhost:8080/"
        },
        "outputId": "c84aad32-fe16-49bf-f8d6-670aae28e4f3"
      },
      "execution_count": null,
      "outputs": [
        {
          "output_type": "execute_result",
          "data": {
            "text/plain": [
              "Index(['father', 'mother', 'gender', 'trait', 'SNP_01', 'SNP_02', 'SNP_03',\n",
              "       'SNP_04', 'SNP_05', 'SNP_06', 'SNP_07', 'SNP_08', 'SNP_09', 'SNP_10',\n",
              "       'SNP_11', 'SNP_12', 'SNP_13', 'SNP_14', 'SNP_15'],\n",
              "      dtype='object')"
            ]
          },
          "metadata": {},
          "execution_count": 188
        }
      ]
    },
    {
      "cell_type": "code",
      "source": [
        "for col in train_x.columns:\n",
        "    if col in snp_col:\n",
        "        train_x[col] = snp_le.transform(train_x[col])\n",
        "        test_x[col] = snp_le.transform(test_x[col])"
      ],
      "metadata": {
        "id": "gVlNptsniYol"
      },
      "execution_count": null,
      "outputs": []
    },
    {
      "cell_type": "code",
      "source": [
        "train_x"
      ],
      "metadata": {
        "id": "xCgEP-LuiklO",
        "colab": {
          "base_uri": "https://localhost:8080/",
          "height": 488
        },
        "outputId": "21df8d8e-bf6c-4c27-d670-5fad4cdd9866"
      },
      "execution_count": null,
      "outputs": [
        {
          "output_type": "execute_result",
          "data": {
            "text/plain": [
              "     father  mother  gender  trait  SNP_01  SNP_02  SNP_03  SNP_04  SNP_05  \\\n",
              "0         0       0       0      2       5       1       0       4       2   \n",
              "1         0       0       0      2       1       1       2       0       0   \n",
              "2         0       0       0      2       5       5       0       4       3   \n",
              "3         0       0       0      1       0       5       0       4       0   \n",
              "4         0       0       0      2       5       5       3       0       3   \n",
              "..      ...     ...     ...    ...     ...     ...     ...     ...     ...   \n",
              "257       0       0       0      2       1       1       0       4       3   \n",
              "258       0       0       0      2       5       0       2       0       0   \n",
              "259       0       0       0      1       1       5       0       4       0   \n",
              "260       0       0       0      1       0       5       0       4       0   \n",
              "261       0       0       0      2       5       1       2       5       3   \n",
              "\n",
              "     SNP_06  SNP_07  SNP_08  SNP_09  SNP_10  SNP_11  SNP_12  SNP_13  SNP_14  \\\n",
              "0         0       0       5       0       5       1       0       0       0   \n",
              "1         1       0       4       0       1       0       4       5       0   \n",
              "2         5       0       4       4       1       0       0       0       0   \n",
              "3         5       5       0       5       1       5       5       5       0   \n",
              "4         0       0       0       0       5       0       0       1       0   \n",
              "..      ...     ...     ...     ...     ...     ...     ...     ...     ...   \n",
              "257       1       0       4       0       5       1       4       0       0   \n",
              "258       1       4       4       0       1       1       0       1       0   \n",
              "259       1       5       4       4       0       5       5       5       2   \n",
              "260       5       5       0       4       1       1       4       5       2   \n",
              "261       1       0       0       0       5       0       0       5       0   \n",
              "\n",
              "     SNP_15  \n",
              "0         0  \n",
              "1         0  \n",
              "2         0  \n",
              "3         5  \n",
              "4         4  \n",
              "..      ...  \n",
              "257       0  \n",
              "258       4  \n",
              "259       5  \n",
              "260       5  \n",
              "261       4  \n",
              "\n",
              "[262 rows x 19 columns]"
            ],
            "text/html": [
              "\n",
              "  <div id=\"df-f597b2ef-969f-4250-9222-a2b2e1ad3693\">\n",
              "    <div class=\"colab-df-container\">\n",
              "      <div>\n",
              "<style scoped>\n",
              "    .dataframe tbody tr th:only-of-type {\n",
              "        vertical-align: middle;\n",
              "    }\n",
              "\n",
              "    .dataframe tbody tr th {\n",
              "        vertical-align: top;\n",
              "    }\n",
              "\n",
              "    .dataframe thead th {\n",
              "        text-align: right;\n",
              "    }\n",
              "</style>\n",
              "<table border=\"1\" class=\"dataframe\">\n",
              "  <thead>\n",
              "    <tr style=\"text-align: right;\">\n",
              "      <th></th>\n",
              "      <th>father</th>\n",
              "      <th>mother</th>\n",
              "      <th>gender</th>\n",
              "      <th>trait</th>\n",
              "      <th>SNP_01</th>\n",
              "      <th>SNP_02</th>\n",
              "      <th>SNP_03</th>\n",
              "      <th>SNP_04</th>\n",
              "      <th>SNP_05</th>\n",
              "      <th>SNP_06</th>\n",
              "      <th>SNP_07</th>\n",
              "      <th>SNP_08</th>\n",
              "      <th>SNP_09</th>\n",
              "      <th>SNP_10</th>\n",
              "      <th>SNP_11</th>\n",
              "      <th>SNP_12</th>\n",
              "      <th>SNP_13</th>\n",
              "      <th>SNP_14</th>\n",
              "      <th>SNP_15</th>\n",
              "    </tr>\n",
              "  </thead>\n",
              "  <tbody>\n",
              "    <tr>\n",
              "      <th>0</th>\n",
              "      <td>0</td>\n",
              "      <td>0</td>\n",
              "      <td>0</td>\n",
              "      <td>2</td>\n",
              "      <td>5</td>\n",
              "      <td>1</td>\n",
              "      <td>0</td>\n",
              "      <td>4</td>\n",
              "      <td>2</td>\n",
              "      <td>0</td>\n",
              "      <td>0</td>\n",
              "      <td>5</td>\n",
              "      <td>0</td>\n",
              "      <td>5</td>\n",
              "      <td>1</td>\n",
              "      <td>0</td>\n",
              "      <td>0</td>\n",
              "      <td>0</td>\n",
              "      <td>0</td>\n",
              "    </tr>\n",
              "    <tr>\n",
              "      <th>1</th>\n",
              "      <td>0</td>\n",
              "      <td>0</td>\n",
              "      <td>0</td>\n",
              "      <td>2</td>\n",
              "      <td>1</td>\n",
              "      <td>1</td>\n",
              "      <td>2</td>\n",
              "      <td>0</td>\n",
              "      <td>0</td>\n",
              "      <td>1</td>\n",
              "      <td>0</td>\n",
              "      <td>4</td>\n",
              "      <td>0</td>\n",
              "      <td>1</td>\n",
              "      <td>0</td>\n",
              "      <td>4</td>\n",
              "      <td>5</td>\n",
              "      <td>0</td>\n",
              "      <td>0</td>\n",
              "    </tr>\n",
              "    <tr>\n",
              "      <th>2</th>\n",
              "      <td>0</td>\n",
              "      <td>0</td>\n",
              "      <td>0</td>\n",
              "      <td>2</td>\n",
              "      <td>5</td>\n",
              "      <td>5</td>\n",
              "      <td>0</td>\n",
              "      <td>4</td>\n",
              "      <td>3</td>\n",
              "      <td>5</td>\n",
              "      <td>0</td>\n",
              "      <td>4</td>\n",
              "      <td>4</td>\n",
              "      <td>1</td>\n",
              "      <td>0</td>\n",
              "      <td>0</td>\n",
              "      <td>0</td>\n",
              "      <td>0</td>\n",
              "      <td>0</td>\n",
              "    </tr>\n",
              "    <tr>\n",
              "      <th>3</th>\n",
              "      <td>0</td>\n",
              "      <td>0</td>\n",
              "      <td>0</td>\n",
              "      <td>1</td>\n",
              "      <td>0</td>\n",
              "      <td>5</td>\n",
              "      <td>0</td>\n",
              "      <td>4</td>\n",
              "      <td>0</td>\n",
              "      <td>5</td>\n",
              "      <td>5</td>\n",
              "      <td>0</td>\n",
              "      <td>5</td>\n",
              "      <td>1</td>\n",
              "      <td>5</td>\n",
              "      <td>5</td>\n",
              "      <td>5</td>\n",
              "      <td>0</td>\n",
              "      <td>5</td>\n",
              "    </tr>\n",
              "    <tr>\n",
              "      <th>4</th>\n",
              "      <td>0</td>\n",
              "      <td>0</td>\n",
              "      <td>0</td>\n",
              "      <td>2</td>\n",
              "      <td>5</td>\n",
              "      <td>5</td>\n",
              "      <td>3</td>\n",
              "      <td>0</td>\n",
              "      <td>3</td>\n",
              "      <td>0</td>\n",
              "      <td>0</td>\n",
              "      <td>0</td>\n",
              "      <td>0</td>\n",
              "      <td>5</td>\n",
              "      <td>0</td>\n",
              "      <td>0</td>\n",
              "      <td>1</td>\n",
              "      <td>0</td>\n",
              "      <td>4</td>\n",
              "    </tr>\n",
              "    <tr>\n",
              "      <th>...</th>\n",
              "      <td>...</td>\n",
              "      <td>...</td>\n",
              "      <td>...</td>\n",
              "      <td>...</td>\n",
              "      <td>...</td>\n",
              "      <td>...</td>\n",
              "      <td>...</td>\n",
              "      <td>...</td>\n",
              "      <td>...</td>\n",
              "      <td>...</td>\n",
              "      <td>...</td>\n",
              "      <td>...</td>\n",
              "      <td>...</td>\n",
              "      <td>...</td>\n",
              "      <td>...</td>\n",
              "      <td>...</td>\n",
              "      <td>...</td>\n",
              "      <td>...</td>\n",
              "      <td>...</td>\n",
              "    </tr>\n",
              "    <tr>\n",
              "      <th>257</th>\n",
              "      <td>0</td>\n",
              "      <td>0</td>\n",
              "      <td>0</td>\n",
              "      <td>2</td>\n",
              "      <td>1</td>\n",
              "      <td>1</td>\n",
              "      <td>0</td>\n",
              "      <td>4</td>\n",
              "      <td>3</td>\n",
              "      <td>1</td>\n",
              "      <td>0</td>\n",
              "      <td>4</td>\n",
              "      <td>0</td>\n",
              "      <td>5</td>\n",
              "      <td>1</td>\n",
              "      <td>4</td>\n",
              "      <td>0</td>\n",
              "      <td>0</td>\n",
              "      <td>0</td>\n",
              "    </tr>\n",
              "    <tr>\n",
              "      <th>258</th>\n",
              "      <td>0</td>\n",
              "      <td>0</td>\n",
              "      <td>0</td>\n",
              "      <td>2</td>\n",
              "      <td>5</td>\n",
              "      <td>0</td>\n",
              "      <td>2</td>\n",
              "      <td>0</td>\n",
              "      <td>0</td>\n",
              "      <td>1</td>\n",
              "      <td>4</td>\n",
              "      <td>4</td>\n",
              "      <td>0</td>\n",
              "      <td>1</td>\n",
              "      <td>1</td>\n",
              "      <td>0</td>\n",
              "      <td>1</td>\n",
              "      <td>0</td>\n",
              "      <td>4</td>\n",
              "    </tr>\n",
              "    <tr>\n",
              "      <th>259</th>\n",
              "      <td>0</td>\n",
              "      <td>0</td>\n",
              "      <td>0</td>\n",
              "      <td>1</td>\n",
              "      <td>1</td>\n",
              "      <td>5</td>\n",
              "      <td>0</td>\n",
              "      <td>4</td>\n",
              "      <td>0</td>\n",
              "      <td>1</td>\n",
              "      <td>5</td>\n",
              "      <td>4</td>\n",
              "      <td>4</td>\n",
              "      <td>0</td>\n",
              "      <td>5</td>\n",
              "      <td>5</td>\n",
              "      <td>5</td>\n",
              "      <td>2</td>\n",
              "      <td>5</td>\n",
              "    </tr>\n",
              "    <tr>\n",
              "      <th>260</th>\n",
              "      <td>0</td>\n",
              "      <td>0</td>\n",
              "      <td>0</td>\n",
              "      <td>1</td>\n",
              "      <td>0</td>\n",
              "      <td>5</td>\n",
              "      <td>0</td>\n",
              "      <td>4</td>\n",
              "      <td>0</td>\n",
              "      <td>5</td>\n",
              "      <td>5</td>\n",
              "      <td>0</td>\n",
              "      <td>4</td>\n",
              "      <td>1</td>\n",
              "      <td>1</td>\n",
              "      <td>4</td>\n",
              "      <td>5</td>\n",
              "      <td>2</td>\n",
              "      <td>5</td>\n",
              "    </tr>\n",
              "    <tr>\n",
              "      <th>261</th>\n",
              "      <td>0</td>\n",
              "      <td>0</td>\n",
              "      <td>0</td>\n",
              "      <td>2</td>\n",
              "      <td>5</td>\n",
              "      <td>1</td>\n",
              "      <td>2</td>\n",
              "      <td>5</td>\n",
              "      <td>3</td>\n",
              "      <td>1</td>\n",
              "      <td>0</td>\n",
              "      <td>0</td>\n",
              "      <td>0</td>\n",
              "      <td>5</td>\n",
              "      <td>0</td>\n",
              "      <td>0</td>\n",
              "      <td>5</td>\n",
              "      <td>0</td>\n",
              "      <td>4</td>\n",
              "    </tr>\n",
              "  </tbody>\n",
              "</table>\n",
              "<p>262 rows × 19 columns</p>\n",
              "</div>\n",
              "      <button class=\"colab-df-convert\" onclick=\"convertToInteractive('df-f597b2ef-969f-4250-9222-a2b2e1ad3693')\"\n",
              "              title=\"Convert this dataframe to an interactive table.\"\n",
              "              style=\"display:none;\">\n",
              "        \n",
              "  <svg xmlns=\"http://www.w3.org/2000/svg\" height=\"24px\"viewBox=\"0 0 24 24\"\n",
              "       width=\"24px\">\n",
              "    <path d=\"M0 0h24v24H0V0z\" fill=\"none\"/>\n",
              "    <path d=\"M18.56 5.44l.94 2.06.94-2.06 2.06-.94-2.06-.94-.94-2.06-.94 2.06-2.06.94zm-11 1L8.5 8.5l.94-2.06 2.06-.94-2.06-.94L8.5 2.5l-.94 2.06-2.06.94zm10 10l.94 2.06.94-2.06 2.06-.94-2.06-.94-.94-2.06-.94 2.06-2.06.94z\"/><path d=\"M17.41 7.96l-1.37-1.37c-.4-.4-.92-.59-1.43-.59-.52 0-1.04.2-1.43.59L10.3 9.45l-7.72 7.72c-.78.78-.78 2.05 0 2.83L4 21.41c.39.39.9.59 1.41.59.51 0 1.02-.2 1.41-.59l7.78-7.78 2.81-2.81c.8-.78.8-2.07 0-2.86zM5.41 20L4 18.59l7.72-7.72 1.47 1.35L5.41 20z\"/>\n",
              "  </svg>\n",
              "      </button>\n",
              "      \n",
              "  <style>\n",
              "    .colab-df-container {\n",
              "      display:flex;\n",
              "      flex-wrap:wrap;\n",
              "      gap: 12px;\n",
              "    }\n",
              "\n",
              "    .colab-df-convert {\n",
              "      background-color: #E8F0FE;\n",
              "      border: none;\n",
              "      border-radius: 50%;\n",
              "      cursor: pointer;\n",
              "      display: none;\n",
              "      fill: #1967D2;\n",
              "      height: 32px;\n",
              "      padding: 0 0 0 0;\n",
              "      width: 32px;\n",
              "    }\n",
              "\n",
              "    .colab-df-convert:hover {\n",
              "      background-color: #E2EBFA;\n",
              "      box-shadow: 0px 1px 2px rgba(60, 64, 67, 0.3), 0px 1px 3px 1px rgba(60, 64, 67, 0.15);\n",
              "      fill: #174EA6;\n",
              "    }\n",
              "\n",
              "    [theme=dark] .colab-df-convert {\n",
              "      background-color: #3B4455;\n",
              "      fill: #D2E3FC;\n",
              "    }\n",
              "\n",
              "    [theme=dark] .colab-df-convert:hover {\n",
              "      background-color: #434B5C;\n",
              "      box-shadow: 0px 1px 3px 1px rgba(0, 0, 0, 0.15);\n",
              "      filter: drop-shadow(0px 1px 2px rgba(0, 0, 0, 0.3));\n",
              "      fill: #FFFFFF;\n",
              "    }\n",
              "  </style>\n",
              "\n",
              "      <script>\n",
              "        const buttonEl =\n",
              "          document.querySelector('#df-f597b2ef-969f-4250-9222-a2b2e1ad3693 button.colab-df-convert');\n",
              "        buttonEl.style.display =\n",
              "          google.colab.kernel.accessAllowed ? 'block' : 'none';\n",
              "\n",
              "        async function convertToInteractive(key) {\n",
              "          const element = document.querySelector('#df-f597b2ef-969f-4250-9222-a2b2e1ad3693');\n",
              "          const dataTable =\n",
              "            await google.colab.kernel.invokeFunction('convertToInteractive',\n",
              "                                                     [key], {});\n",
              "          if (!dataTable) return;\n",
              "\n",
              "          const docLinkHtml = 'Like what you see? Visit the ' +\n",
              "            '<a target=\"_blank\" href=https://colab.research.google.com/notebooks/data_table.ipynb>data table notebook</a>'\n",
              "            + ' to learn more about interactive tables.';\n",
              "          element.innerHTML = '';\n",
              "          dataTable['output_type'] = 'display_data';\n",
              "          await google.colab.output.renderOutput(dataTable, element);\n",
              "          const docLink = document.createElement('div');\n",
              "          docLink.innerHTML = docLinkHtml;\n",
              "          element.appendChild(docLink);\n",
              "        }\n",
              "      </script>\n",
              "    </div>\n",
              "  </div>\n",
              "  "
            ]
          },
          "metadata": {},
          "execution_count": 190
        }
      ]
    },
    {
      "cell_type": "markdown",
      "source": [
        "### Data Split"
      ],
      "metadata": {
        "id": "7ztUJb8Wot_4"
      }
    },
    {
      "cell_type": "code",
      "source": [
        "train_x, val_x, train_y, val_y = train_test_split(\n",
        "    train_x, train_y, test_size=0.4)"
      ],
      "metadata": {
        "id": "SW4Z1u7IqQyp"
      },
      "execution_count": null,
      "outputs": []
    },
    {
      "cell_type": "markdown",
      "source": [
        "## Decision Tree"
      ],
      "metadata": {
        "id": "laUGIVkqXFzF"
      }
    },
    {
      "cell_type": "markdown",
      "source": [
        "### Model Fit"
      ],
      "metadata": {
        "id": "mcDOqEl9il22"
      }
    },
    {
      "cell_type": "code",
      "source": [
        "# max_depth=depth\n",
        "model = DecisionTreeClassifier(max_depth=8)\n",
        "model.fit(train_x, train_y)"
      ],
      "metadata": {
        "id": "SW1L0UOhi8rO",
        "colab": {
          "base_uri": "https://localhost:8080/"
        },
        "outputId": "a32a0d61-ec2c-480e-8f21-53add8215baf"
      },
      "execution_count": null,
      "outputs": [
        {
          "output_type": "execute_result",
          "data": {
            "text/plain": [
              "DecisionTreeClassifier(max_depth=8)"
            ]
          },
          "metadata": {},
          "execution_count": 192
        }
      ]
    },
    {
      "cell_type": "code",
      "source": [
        "train_pred = model.predict(train_x)\n",
        "val_pred = model.predict(val_x)\n",
        "test_pred = model.predict(test_x)"
      ],
      "metadata": {
        "id": "2-3eAr2fjDq-"
      },
      "execution_count": null,
      "outputs": []
    },
    {
      "cell_type": "code",
      "source": [
        "print(f'Train Score : {accuracy_score(train_y, train_pred)}')\n",
        "print(f'Validation Score : {accuracy_score(val_y, val_pred)}')"
      ],
      "metadata": {
        "id": "S36-b2DvjF1G",
        "colab": {
          "base_uri": "https://localhost:8080/"
        },
        "outputId": "647db361-a6ca-48d2-b738-7167487ad61d"
      },
      "execution_count": null,
      "outputs": [
        {
          "output_type": "stream",
          "name": "stdout",
          "text": [
            "Train Score : 0.9872611464968153\n",
            "Validation Score : 0.9047619047619048\n"
          ]
        }
      ]
    },
    {
      "cell_type": "markdown",
      "source": [
        "### 하이퍼 파라미터 튜닝"
      ],
      "metadata": {
        "id": "APQoeDXQqhIm"
      }
    },
    {
      "cell_type": "code",
      "source": [
        "def test_depth(depth):\n",
        "    model = DecisionTreeClassifier(max_depth=depth)\n",
        "    model.fit(train_x, train_y)\n",
        "    train_pred = model.predict(train_x)\n",
        "    val_pred = model.predict(val_x)\n",
        "    print(f\"depth : {depth}\")\n",
        "    print(f'Train Score : {accuracy_score(train_y, train_pred)}')\n",
        "    print(f'Validation Score : {accuracy_score(val_y, val_pred)}')"
      ],
      "metadata": {
        "id": "LoDFtnrbkTl4"
      },
      "execution_count": null,
      "outputs": []
    },
    {
      "cell_type": "code",
      "source": [
        "for i in range(1, 20):\n",
        "    test_depth(i)"
      ],
      "metadata": {
        "id": "UqHYSeEnkgLN",
        "colab": {
          "base_uri": "https://localhost:8080/"
        },
        "outputId": "90bba8cc-efcb-4a36-b63e-6a6d4b7796b3"
      },
      "execution_count": null,
      "outputs": [
        {
          "output_type": "stream",
          "name": "stdout",
          "text": [
            "depth : 1\n",
            "Train Score : 0.7197452229299363\n",
            "Validation Score : 0.6666666666666666\n",
            "depth : 2\n",
            "Train Score : 0.8662420382165605\n",
            "Validation Score : 0.8\n",
            "depth : 3\n",
            "Train Score : 0.910828025477707\n",
            "Validation Score : 0.8285714285714286\n",
            "depth : 4\n",
            "Train Score : 0.910828025477707\n",
            "Validation Score : 0.8285714285714286\n",
            "depth : 5\n",
            "Train Score : 0.9426751592356688\n",
            "Validation Score : 0.8761904761904762\n",
            "depth : 6\n",
            "Train Score : 0.9745222929936306\n",
            "Validation Score : 0.9238095238095239\n",
            "depth : 7\n",
            "Train Score : 0.9872611464968153\n",
            "Validation Score : 0.9238095238095239\n",
            "depth : 8\n",
            "Train Score : 0.9872611464968153\n",
            "Validation Score : 0.9238095238095239\n",
            "depth : 9\n",
            "Train Score : 0.9872611464968153\n",
            "Validation Score : 0.8952380952380953\n",
            "depth : 10\n",
            "Train Score : 0.9936305732484076\n",
            "Validation Score : 0.8952380952380953\n",
            "depth : 11\n",
            "Train Score : 1.0\n",
            "Validation Score : 0.9047619047619048\n",
            "depth : 12\n",
            "Train Score : 1.0\n",
            "Validation Score : 0.8952380952380953\n",
            "depth : 13\n",
            "Train Score : 1.0\n",
            "Validation Score : 0.9142857142857143\n",
            "depth : 14\n",
            "Train Score : 1.0\n",
            "Validation Score : 0.9047619047619048\n",
            "depth : 15\n",
            "Train Score : 1.0\n",
            "Validation Score : 0.9047619047619048\n",
            "depth : 16\n",
            "Train Score : 1.0\n",
            "Validation Score : 0.9047619047619048\n",
            "depth : 17\n",
            "Train Score : 1.0\n",
            "Validation Score : 0.9142857142857143\n",
            "depth : 18\n",
            "Train Score : 1.0\n",
            "Validation Score : 0.9238095238095239\n",
            "depth : 19\n",
            "Train Score : 1.0\n",
            "Validation Score : 0.8857142857142857\n"
          ]
        }
      ]
    },
    {
      "cell_type": "markdown",
      "source": [
        "### Tree Visualization"
      ],
      "metadata": {
        "id": "a-wXBoFJp3_e"
      }
    },
    {
      "cell_type": "code",
      "source": [
        "train_x.columns"
      ],
      "metadata": {
        "id": "G-vIkhj_p-wM",
        "colab": {
          "base_uri": "https://localhost:8080/"
        },
        "outputId": "d09eadd7-d225-4c12-8840-bc59906083b4"
      },
      "execution_count": null,
      "outputs": [
        {
          "output_type": "execute_result",
          "data": {
            "text/plain": [
              "Index(['father', 'mother', 'gender', 'trait', 'SNP_01', 'SNP_02', 'SNP_03',\n",
              "       'SNP_04', 'SNP_05', 'SNP_06', 'SNP_07', 'SNP_08', 'SNP_09', 'SNP_10',\n",
              "       'SNP_11', 'SNP_12', 'SNP_13', 'SNP_14', 'SNP_15'],\n",
              "      dtype='object')"
            ]
          },
          "metadata": {},
          "execution_count": 197
        }
      ]
    },
    {
      "cell_type": "code",
      "source": [
        "plt.figure(figsize=(30, 15)) # plt 객체의 크기 결정\n",
        "plot_tree(model, max_depth=3, fontsize=20, feature_names=train_x.columns) # 독립변수명을 추가로 지정\n",
        "plt.show()"
      ],
      "metadata": {
        "id": "ZFGnAqgWqBnk",
        "colab": {
          "base_uri": "https://localhost:8080/",
          "height": 603
        },
        "outputId": "015e89eb-db64-4171-d7e3-45fc5b5a00b0"
      },
      "execution_count": null,
      "outputs": [
        {
          "output_type": "display_data",
          "data": {
            "text/plain": [
              "<Figure size 2160x1080 with 1 Axes>"
            ],
            "image/png": "[encoded data removed]"
          },
          "metadata": {
            "needs_background": "light"
          }
        }
      ]
    },
    {
      "cell_type": "markdown",
      "source": [
        "## XGBoost"
      ],
      "metadata": {
        "id": "M86HcAIniSxS"
      }
    },
    {
      "cell_type": "code",
      "source": [
        "import xgboost as xgb"
      ],
      "metadata": {
        "id": "QSZXWMkeiUfB"
      },
      "execution_count": null,
      "outputs": []
    },
    {
      "cell_type": "code",
      "source": [
        "model = xgb.XGBClassifier()"
      ],
      "metadata": {
        "id": "hG3FQCwiihXU"
      },
      "execution_count": null,
      "outputs": []
    },
    {
      "cell_type": "code",
      "source": [
        "model.fit(train_x, train_y)"
      ],
      "metadata": {
        "colab": {
          "base_uri": "https://localhost:8080/"
        },
        "id": "0vSDL4D2ilM4",
        "outputId": "180ddfc1-bce0-45a0-b9e4-7a823df26fae"
      },
      "execution_count": null,
      "outputs": [
        {
          "output_type": "execute_result",
          "data": {
            "text/plain": [
              "XGBClassifier(objective='multi:softprob')"
            ]
          },
          "metadata": {},
          "execution_count": 201
        }
      ]
    },
    {
      "cell_type": "code",
      "source": [
        "train_pred = model.predict(train_x)\n",
        "val_pred = model.predict(val_x)\n",
        "test_pred = model.predict(test_x)"
      ],
      "metadata": {
        "id": "V_tbj8BliacQ"
      },
      "execution_count": null,
      "outputs": []
    },
    {
      "cell_type": "code",
      "source": [
        "print(f'Train Score : {accuracy_score(train_y, train_pred)}')\n",
        "print(f'Validation Score : {accuracy_score(val_y, val_pred)}')"
      ],
      "metadata": {
        "colab": {
          "base_uri": "https://localhost:8080/"
        },
        "outputId": "31f643a4-e627-4c03-d1d8-5d033b401a01",
        "id": "pM81ue4piacQ"
      },
      "execution_count": null,
      "outputs": [
        {
          "output_type": "stream",
          "name": "stdout",
          "text": [
            "Train Score : 1.0\n",
            "Validation Score : 0.9238095238095239\n"
          ]
        }
      ]
    },
    {
      "cell_type": "markdown",
      "source": [
        "## K-Fold"
      ],
      "metadata": {
        "id": "DTlV6xKik5rr"
      }
    },
    {
      "cell_type": "code",
      "source": [
        "def get_x_y(df):\n",
        "    if 'class' in df.columns:\n",
        "        df_x = df.drop(columns=['id', 'class'])\n",
        "        df_y = df['class']\n",
        "        return df_x, df_y\n",
        "    else:\n",
        "        df_x = df.drop(columns=['id'])\n",
        "        return df_x"
      ],
      "metadata": {
        "id": "JnMscdsNmb6y"
      },
      "execution_count": null,
      "outputs": []
    },
    {
      "cell_type": "code",
      "source": [
        "train_x, train_y = get_x_y(train)\n",
        "test_x = get_x_y(test)"
      ],
      "metadata": {
        "id": "YweACotvmb6z"
      },
      "execution_count": null,
      "outputs": []
    },
    {
      "cell_type": "code",
      "source": [
        "train_x"
      ],
      "metadata": {
        "colab": {
          "base_uri": "https://localhost:8080/",
          "height": 488
        },
        "outputId": "01068aa7-f0fe-4297-815c-f6488b508e6e",
        "id": "WnLJ4Yvsmb6z"
      },
      "execution_count": null,
      "outputs": [
        {
          "output_type": "execute_result",
          "data": {
            "text/plain": [
              "     father  mother  gender  trait SNP_01 SNP_02 SNP_03 SNP_04 SNP_05 SNP_06  \\\n",
              "0         0       0       0      2    G G    A G    A A    G A    C A    A A   \n",
              "1         0       0       0      2    A G    A G    C A    A A    A A    A G   \n",
              "2         0       0       0      2    G G    G G    A A    G A    C C    G G   \n",
              "3         0       0       0      1    A A    G G    A A    G A    A A    G G   \n",
              "4         0       0       0      2    G G    G G    C C    A A    C C    A A   \n",
              "..      ...     ...     ...    ...    ...    ...    ...    ...    ...    ...   \n",
              "257       0       0       0      2    A G    A G    A A    G A    C C    A G   \n",
              "258       0       0       0      2    G G    A A    C A    A A    A A    A G   \n",
              "259       0       0       0      1    A G    G G    A A    G A    A A    A G   \n",
              "260       0       0       0      1    A A    G G    A A    G A    A A    G G   \n",
              "261       0       0       0      2    G G    A G    C A    G G    C C    A G   \n",
              "\n",
              "    SNP_07 SNP_08 SNP_09 SNP_10 SNP_11 SNP_12 SNP_13 SNP_14 SNP_15  \n",
              "0      A A    G G    A A    G G    A G    A A    A A    A A    A A  \n",
              "1      A A    G A    A A    A G    A A    G A    G G    A A    A A  \n",
              "2      A A    G A    G A    A G    A A    A A    A A    A A    A A  \n",
              "3      G G    A A    G G    A G    G G    G G    G G    A A    G G  \n",
              "4      A A    A A    A A    G G    A A    A A    A G    A A    G A  \n",
              "..     ...    ...    ...    ...    ...    ...    ...    ...    ...  \n",
              "257    A A    G A    A A    G G    A G    G A    A A    A A    A A  \n",
              "258    G A    G A    A A    A G    A G    A A    A G    A A    G A  \n",
              "259    G G    G A    G A    A A    G G    G G    G G    C A    G G  \n",
              "260    G G    A A    G A    A G    A G    G A    G G    C A    G G  \n",
              "261    A A    A A    A A    G G    A A    A A    G G    A A    G A  \n",
              "\n",
              "[262 rows x 19 columns]"
            ],
            "text/html": [
              "\n",
              "  <div id=\"df-d3a3a8e2-abb0-49b2-864b-82279d6e24b2\">\n",
              "    <div class=\"colab-df-container\">\n",
              "      <div>\n",
              "<style scoped>\n",
              "    .dataframe tbody tr th:only-of-type {\n",
              "        vertical-align: middle;\n",
              "    }\n",
              "\n",
              "    .dataframe tbody tr th {\n",
              "        vertical-align: top;\n",
              "    }\n",
              "\n",
              "    .dataframe thead th {\n",
              "        text-align: right;\n",
              "    }\n",
              "</style>\n",
              "<table border=\"1\" class=\"dataframe\">\n",
              "  <thead>\n",
              "    <tr style=\"text-align: right;\">\n",
              "      <th></th>\n",
              "      <th>father</th>\n",
              "      <th>mother</th>\n",
              "      <th>gender</th>\n",
              "      <th>trait</th>\n",
              "      <th>SNP_01</th>\n",
              "      <th>SNP_02</th>\n",
              "      <th>SNP_03</th>\n",
              "      <th>SNP_04</th>\n",
              "      <th>SNP_05</th>\n",
              "      <th>SNP_06</th>\n",
              "      <th>SNP_07</th>\n",
              "      <th>SNP_08</th>\n",
              "      <th>SNP_09</th>\n",
              "      <th>SNP_10</th>\n",
              "      <th>SNP_11</th>\n",
              "      <th>SNP_12</th>\n",
              "      <th>SNP_13</th>\n",
              "      <th>SNP_14</th>\n",
              "      <th>SNP_15</th>\n",
              "    </tr>\n",
              "  </thead>\n",
              "  <tbody>\n",
              "    <tr>\n",
              "      <th>0</th>\n",
              "      <td>0</td>\n",
              "      <td>0</td>\n",
              "      <td>0</td>\n",
              "      <td>2</td>\n",
              "      <td>G G</td>\n",
              "      <td>A G</td>\n",
              "      <td>A A</td>\n",
              "      <td>G A</td>\n",
              "      <td>C A</td>\n",
              "      <td>A A</td>\n",
              "      <td>A A</td>\n",
              "      <td>G G</td>\n",
              "      <td>A A</td>\n",
              "      <td>G G</td>\n",
              "      <td>A G</td>\n",
              "      <td>A A</td>\n",
              "      <td>A A</td>\n",
              "      <td>A A</td>\n",
              "      <td>A A</td>\n",
              "    </tr>\n",
              "    <tr>\n",
              "      <th>1</th>\n",
              "      <td>0</td>\n",
              "      <td>0</td>\n",
              "      <td>0</td>\n",
              "      <td>2</td>\n",
              "      <td>A G</td>\n",
              "      <td>A G</td>\n",
              "      <td>C A</td>\n",
              "      <td>A A</td>\n",
              "      <td>A A</td>\n",
              "      <td>A G</td>\n",
              "      <td>A A</td>\n",
              "      <td>G A</td>\n",
              "      <td>A A</td>\n",
              "      <td>A G</td>\n",
              "      <td>A A</td>\n",
              "      <td>G A</td>\n",
              "      <td>G G</td>\n",
              "      <td>A A</td>\n",
              "      <td>A A</td>\n",
              "    </tr>\n",
              "    <tr>\n",
              "      <th>2</th>\n",
              "      <td>0</td>\n",
              "      <td>0</td>\n",
              "      <td>0</td>\n",
              "      <td>2</td>\n",
              "      <td>G G</td>\n",
              "      <td>G G</td>\n",
              "      <td>A A</td>\n",
              "      <td>G A</td>\n",
              "      <td>C C</td>\n",
              "      <td>G G</td>\n",
              "      <td>A A</td>\n",
              "      <td>G A</td>\n",
              "      <td>G A</td>\n",
              "      <td>A G</td>\n",
              "      <td>A A</td>\n",
              "      <td>A A</td>\n",
              "      <td>A A</td>\n",
              "      <td>A A</td>\n",
              "      <td>A A</td>\n",
              "    </tr>\n",
              "    <tr>\n",
              "      <th>3</th>\n",
              "      <td>0</td>\n",
              "      <td>0</td>\n",
              "      <td>0</td>\n",
              "      <td>1</td>\n",
              "      <td>A A</td>\n",
              "      <td>G G</td>\n",
              "      <td>A A</td>\n",
              "      <td>G A</td>\n",
              "      <td>A A</td>\n",
              "      <td>G G</td>\n",
              "      <td>G G</td>\n",
              "      <td>A A</td>\n",
              "      <td>G G</td>\n",
              "      <td>A G</td>\n",
              "      <td>G G</td>\n",
              "      <td>G G</td>\n",
              "      <td>G G</td>\n",
              "      <td>A A</td>\n",
              "      <td>G G</td>\n",
              "    </tr>\n",
              "    <tr>\n",
              "      <th>4</th>\n",
              "      <td>0</td>\n",
              "      <td>0</td>\n",
              "      <td>0</td>\n",
              "      <td>2</td>\n",
              "      <td>G G</td>\n",
              "      <td>G G</td>\n",
              "      <td>C C</td>\n",
              "      <td>A A</td>\n",
              "      <td>C C</td>\n",
              "      <td>A A</td>\n",
              "      <td>A A</td>\n",
              "      <td>A A</td>\n",
              "      <td>A A</td>\n",
              "      <td>G G</td>\n",
              "      <td>A A</td>\n",
              "      <td>A A</td>\n",
              "      <td>A G</td>\n",
              "      <td>A A</td>\n",
              "      <td>G A</td>\n",
              "    </tr>\n",
              "    <tr>\n",
              "      <th>...</th>\n",
              "      <td>...</td>\n",
              "      <td>...</td>\n",
              "      <td>...</td>\n",
              "      <td>...</td>\n",
              "      <td>...</td>\n",
              "      <td>...</td>\n",
              "      <td>...</td>\n",
              "      <td>...</td>\n",
              "      <td>...</td>\n",
              "      <td>...</td>\n",
              "      <td>...</td>\n",
              "      <td>...</td>\n",
              "      <td>...</td>\n",
              "      <td>...</td>\n",
              "      <td>...</td>\n",
              "      <td>...</td>\n",
              "      <td>...</td>\n",
              "      <td>...</td>\n",
              "      <td>...</td>\n",
              "    </tr>\n",
              "    <tr>\n",
              "      <th>257</th>\n",
              "      <td>0</td>\n",
              "      <td>0</td>\n",
              "      <td>0</td>\n",
              "      <td>2</td>\n",
              "      <td>A G</td>\n",
              "      <td>A G</td>\n",
              "      <td>A A</td>\n",
              "      <td>G A</td>\n",
              "      <td>C C</td>\n",
              "      <td>A G</td>\n",
              "      <td>A A</td>\n",
              "      <td>G A</td>\n",
              "      <td>A A</td>\n",
              "      <td>G G</td>\n",
              "      <td>A G</td>\n",
              "      <td>G A</td>\n",
              "      <td>A A</td>\n",
              "      <td>A A</td>\n",
              "      <td>A A</td>\n",
              "    </tr>\n",
              "    <tr>\n",
              "      <th>258</th>\n",
              "      <td>0</td>\n",
              "      <td>0</td>\n",
              "      <td>0</td>\n",
              "      <td>2</td>\n",
              "      <td>G G</td>\n",
              "      <td>A A</td>\n",
              "      <td>C A</td>\n",
              "      <td>A A</td>\n",
              "      <td>A A</td>\n",
              "      <td>A G</td>\n",
              "      <td>G A</td>\n",
              "      <td>G A</td>\n",
              "      <td>A A</td>\n",
              "      <td>A G</td>\n",
              "      <td>A G</td>\n",
              "      <td>A A</td>\n",
              "      <td>A G</td>\n",
              "      <td>A A</td>\n",
              "      <td>G A</td>\n",
              "    </tr>\n",
              "    <tr>\n",
              "      <th>259</th>\n",
              "      <td>0</td>\n",
              "      <td>0</td>\n",
              "      <td>0</td>\n",
              "      <td>1</td>\n",
              "      <td>A G</td>\n",
              "      <td>G G</td>\n",
              "      <td>A A</td>\n",
              "      <td>G A</td>\n",
              "      <td>A A</td>\n",
              "      <td>A G</td>\n",
              "      <td>G G</td>\n",
              "      <td>G A</td>\n",
              "      <td>G A</td>\n",
              "      <td>A A</td>\n",
              "      <td>G G</td>\n",
              "      <td>G G</td>\n",
              "      <td>G G</td>\n",
              "      <td>C A</td>\n",
              "      <td>G G</td>\n",
              "    </tr>\n",
              "    <tr>\n",
              "      <th>260</th>\n",
              "      <td>0</td>\n",
              "      <td>0</td>\n",
              "      <td>0</td>\n",
              "      <td>1</td>\n",
              "      <td>A A</td>\n",
              "      <td>G G</td>\n",
              "      <td>A A</td>\n",
              "      <td>G A</td>\n",
              "      <td>A A</td>\n",
              "      <td>G G</td>\n",
              "      <td>G G</td>\n",
              "      <td>A A</td>\n",
              "      <td>G A</td>\n",
              "      <td>A G</td>\n",
              "      <td>A G</td>\n",
              "      <td>G A</td>\n",
              "      <td>G G</td>\n",
              "      <td>C A</td>\n",
              "      <td>G G</td>\n",
              "    </tr>\n",
              "    <tr>\n",
              "      <th>261</th>\n",
              "      <td>0</td>\n",
              "      <td>0</td>\n",
              "      <td>0</td>\n",
              "      <td>2</td>\n",
              "      <td>G G</td>\n",
              "      <td>A G</td>\n",
              "      <td>C A</td>\n",
              "      <td>G G</td>\n",
              "      <td>C C</td>\n",
              "      <td>A G</td>\n",
              "      <td>A A</td>\n",
              "      <td>A A</td>\n",
              "      <td>A A</td>\n",
              "      <td>G G</td>\n",
              "      <td>A A</td>\n",
              "      <td>A A</td>\n",
              "      <td>G G</td>\n",
              "      <td>A A</td>\n",
              "      <td>G A</td>\n",
              "    </tr>\n",
              "  </tbody>\n",
              "</table>\n",
              "<p>262 rows × 19 columns</p>\n",
              "</div>\n",
              "      <button class=\"colab-df-convert\" onclick=\"convertToInteractive('df-d3a3a8e2-abb0-49b2-864b-82279d6e24b2')\"\n",
              "              title=\"Convert this dataframe to an interactive table.\"\n",
              "              style=\"display:none;\">\n",
              "        \n",
              "  <svg xmlns=\"http://www.w3.org/2000/svg\" height=\"24px\"viewBox=\"0 0 24 24\"\n",
              "       width=\"24px\">\n",
              "    <path d=\"M0 0h24v24H0V0z\" fill=\"none\"/>\n",
              "    <path d=\"M18.56 5.44l.94 2.06.94-2.06 2.06-.94-2.06-.94-.94-2.06-.94 2.06-2.06.94zm-11 1L8.5 8.5l.94-2.06 2.06-.94-2.06-.94L8.5 2.5l-.94 2.06-2.06.94zm10 10l.94 2.06.94-2.06 2.06-.94-2.06-.94-.94-2.06-.94 2.06-2.06.94z\"/><path d=\"M17.41 7.96l-1.37-1.37c-.4-.4-.92-.59-1.43-.59-.52 0-1.04.2-1.43.59L10.3 9.45l-7.72 7.72c-.78.78-.78 2.05 0 2.83L4 21.41c.39.39.9.59 1.41.59.51 0 1.02-.2 1.41-.59l7.78-7.78 2.81-2.81c.8-.78.8-2.07 0-2.86zM5.41 20L4 18.59l7.72-7.72 1.47 1.35L5.41 20z\"/>\n",
              "  </svg>\n",
              "      </button>\n",
              "      \n",
              "  <style>\n",
              "    .colab-df-container {\n",
              "      display:flex;\n",
              "      flex-wrap:wrap;\n",
              "      gap: 12px;\n",
              "    }\n",
              "\n",
              "    .colab-df-convert {\n",
              "      background-color: #E8F0FE;\n",
              "      border: none;\n",
              "      border-radius: 50%;\n",
              "      cursor: pointer;\n",
              "      display: none;\n",
              "      fill: #1967D2;\n",
              "      height: 32px;\n",
              "      padding: 0 0 0 0;\n",
              "      width: 32px;\n",
              "    }\n",
              "\n",
              "    .colab-df-convert:hover {\n",
              "      background-color: #E2EBFA;\n",
              "      box-shadow: 0px 1px 2px rgba(60, 64, 67, 0.3), 0px 1px 3px 1px rgba(60, 64, 67, 0.15);\n",
              "      fill: #174EA6;\n",
              "    }\n",
              "\n",
              "    [theme=dark] .colab-df-convert {\n",
              "      background-color: #3B4455;\n",
              "      fill: #D2E3FC;\n",
              "    }\n",
              "\n",
              "    [theme=dark] .colab-df-convert:hover {\n",
              "      background-color: #434B5C;\n",
              "      box-shadow: 0px 1px 3px 1px rgba(0, 0, 0, 0.15);\n",
              "      filter: drop-shadow(0px 1px 2px rgba(0, 0, 0, 0.3));\n",
              "      fill: #FFFFFF;\n",
              "    }\n",
              "  </style>\n",
              "\n",
              "      <script>\n",
              "        const buttonEl =\n",
              "          document.querySelector('#df-d3a3a8e2-abb0-49b2-864b-82279d6e24b2 button.colab-df-convert');\n",
              "        buttonEl.style.display =\n",
              "          google.colab.kernel.accessAllowed ? 'block' : 'none';\n",
              "\n",
              "        async function convertToInteractive(key) {\n",
              "          const element = document.querySelector('#df-d3a3a8e2-abb0-49b2-864b-82279d6e24b2');\n",
              "          const dataTable =\n",
              "            await google.colab.kernel.invokeFunction('convertToInteractive',\n",
              "                                                     [key], {});\n",
              "          if (!dataTable) return;\n",
              "\n",
              "          const docLinkHtml = 'Like what you see? Visit the ' +\n",
              "            '<a target=\"_blank\" href=https://colab.research.google.com/notebooks/data_table.ipynb>data table notebook</a>'\n",
              "            + ' to learn more about interactive tables.';\n",
              "          element.innerHTML = '';\n",
              "          dataTable['output_type'] = 'display_data';\n",
              "          await google.colab.output.renderOutput(dataTable, element);\n",
              "          const docLink = document.createElement('div');\n",
              "          docLink.innerHTML = docLinkHtml;\n",
              "          element.appendChild(docLink);\n",
              "        }\n",
              "      </script>\n",
              "    </div>\n",
              "  </div>\n",
              "  "
            ]
          },
          "metadata": {},
          "execution_count": 206
        }
      ]
    },
    {
      "cell_type": "code",
      "source": [
        "train_y"
      ],
      "metadata": {
        "colab": {
          "base_uri": "https://localhost:8080/"
        },
        "outputId": "e3f13fcf-3c41-440e-d312-837782ebb4cd",
        "id": "dpY8DwbVmb6z"
      },
      "execution_count": null,
      "outputs": [
        {
          "output_type": "execute_result",
          "data": {
            "text/plain": [
              "0      B\n",
              "1      C\n",
              "2      B\n",
              "3      A\n",
              "4      C\n",
              "      ..\n",
              "257    B\n",
              "258    C\n",
              "259    A\n",
              "260    A\n",
              "261    B\n",
              "Name: class, Length: 262, dtype: object"
            ]
          },
          "metadata": {},
          "execution_count": 207
        }
      ]
    },
    {
      "cell_type": "markdown",
      "source": [
        "### Label Encoding"
      ],
      "metadata": {
        "id": "svJJ7C61mb6z"
      }
    },
    {
      "cell_type": "code",
      "source": [
        "class_le = preprocessing.LabelEncoder()\n",
        "snp_le = preprocessing.LabelEncoder()\n",
        "snp_col = [f'SNP_{str(x).zfill(2)}' for x in range(1,16)]"
      ],
      "metadata": {
        "id": "fLAAVHgfmb60"
      },
      "execution_count": null,
      "outputs": []
    },
    {
      "cell_type": "code",
      "source": [
        "snp_col"
      ],
      "metadata": {
        "colab": {
          "base_uri": "https://localhost:8080/"
        },
        "outputId": "cc078228-ce94-459f-ff12-aa3e037872c1",
        "id": "Vgu9NiIYmb60"
      },
      "execution_count": null,
      "outputs": [
        {
          "output_type": "execute_result",
          "data": {
            "text/plain": [
              "['SNP_01',\n",
              " 'SNP_02',\n",
              " 'SNP_03',\n",
              " 'SNP_04',\n",
              " 'SNP_05',\n",
              " 'SNP_06',\n",
              " 'SNP_07',\n",
              " 'SNP_08',\n",
              " 'SNP_09',\n",
              " 'SNP_10',\n",
              " 'SNP_11',\n",
              " 'SNP_12',\n",
              " 'SNP_13',\n",
              " 'SNP_14',\n",
              " 'SNP_15']"
            ]
          },
          "metadata": {},
          "execution_count": 209
        }
      ]
    },
    {
      "cell_type": "code",
      "source": [
        "train_data = []\n",
        "for col in snp_col:\n",
        "    train_data += list(train_x[col].values)"
      ],
      "metadata": {
        "id": "aJpP39Hrmb60"
      },
      "execution_count": null,
      "outputs": []
    },
    {
      "cell_type": "code",
      "source": [
        "train_y = class_le.fit_transform(train_y)\n",
        "snp_le.fit(train_data)"
      ],
      "metadata": {
        "colab": {
          "base_uri": "https://localhost:8080/"
        },
        "outputId": "1cbe2b13-e1f9-4dec-b368-69c7a7f2a0fa",
        "id": "f7lXkg74mb60"
      },
      "execution_count": null,
      "outputs": [
        {
          "output_type": "execute_result",
          "data": {
            "text/plain": [
              "LabelEncoder()"
            ]
          },
          "metadata": {},
          "execution_count": 211
        }
      ]
    },
    {
      "cell_type": "code",
      "source": [
        "train_x.columns"
      ],
      "metadata": {
        "colab": {
          "base_uri": "https://localhost:8080/"
        },
        "outputId": "6c3756d0-33b6-4239-cdb5-2688889c30ca",
        "id": "0lJAjMVemb60"
      },
      "execution_count": null,
      "outputs": [
        {
          "output_type": "execute_result",
          "data": {
            "text/plain": [
              "Index(['father', 'mother', 'gender', 'trait', 'SNP_01', 'SNP_02', 'SNP_03',\n",
              "       'SNP_04', 'SNP_05', 'SNP_06', 'SNP_07', 'SNP_08', 'SNP_09', 'SNP_10',\n",
              "       'SNP_11', 'SNP_12', 'SNP_13', 'SNP_14', 'SNP_15'],\n",
              "      dtype='object')"
            ]
          },
          "metadata": {},
          "execution_count": 212
        }
      ]
    },
    {
      "cell_type": "code",
      "source": [
        "for col in train_x.columns:\n",
        "    if col in snp_col:\n",
        "        train_x[col] = snp_le.transform(train_x[col])\n",
        "        test_x[col] = snp_le.transform(test_x[col])"
      ],
      "metadata": {
        "id": "AK8DD60hmb60"
      },
      "execution_count": null,
      "outputs": []
    },
    {
      "cell_type": "code",
      "source": [
        "from sklearn.model_selection import KFold"
      ],
      "metadata": {
        "id": "Fw2feiVWk9Qy"
      },
      "execution_count": null,
      "outputs": []
    },
    {
      "cell_type": "code",
      "source": [
        "kf = KFold(n_splits=5)"
      ],
      "metadata": {
        "id": "ZrxDDA9qk9NH"
      },
      "execution_count": null,
      "outputs": []
    },
    {
      "cell_type": "code",
      "source": [
        "train_acc_total = []\n",
        "val_acc_total = []\n",
        "\n",
        "model = xgb.XGBClassifier()\n",
        "\n",
        "for train_index, val_index in kf.split(train_x):\n",
        "    X_train, X_val = train_x.loc[train_index], train_x.loc[val_index]\n",
        "    y_train, y_val = train_y[train_index], train_y[val_index]\n",
        "\n",
        "    model.fit(X_train, y_train)\n",
        "    train_pred = model.predict(X_train)\n",
        "    val_pred = model.predict(X_val)\n",
        "    \n",
        "    print(f'Train Score : {accuracy_score(y_train, train_pred)}')\n",
        "    print(f'Validation Score : {accuracy_score(y_val, val_pred)}')\n",
        "    \n",
        "    train_acc_total.append(accuracy_score(y_train, train_pred))\n",
        "    val_acc_total.append(accuracy_score(y_val, val_pred))"
      ],
      "metadata": {
        "colab": {
          "base_uri": "https://localhost:8080/"
        },
        "id": "xLzQxcFek9J3",
        "outputId": "e9a1d7f1-c64f-417b-d44f-433a538b1491"
      },
      "execution_count": null,
      "outputs": [
        {
          "output_type": "stream",
          "name": "stdout",
          "text": [
            "Train Score : 0.9952153110047847\n",
            "Validation Score : 0.9056603773584906\n",
            "Train Score : 1.0\n",
            "Validation Score : 0.9245283018867925\n",
            "Train Score : 1.0\n",
            "Validation Score : 0.9423076923076923\n",
            "Train Score : 1.0\n",
            "Validation Score : 0.8846153846153846\n",
            "Train Score : 1.0\n",
            "Validation Score : 0.9807692307692307\n"
          ]
        }
      ]
    },
    {
      "cell_type": "code",
      "source": [
        "train_acc_total"
      ],
      "metadata": {
        "colab": {
          "base_uri": "https://localhost:8080/"
        },
        "id": "4y32MSsnk9FR",
        "outputId": "2abf812d-fb6f-4828-834a-afc1703282a0"
      },
      "execution_count": null,
      "outputs": [
        {
          "output_type": "execute_result",
          "data": {
            "text/plain": [
              "[0.9952153110047847, 1.0, 1.0, 1.0, 1.0]"
            ]
          },
          "metadata": {},
          "execution_count": 217
        }
      ]
    },
    {
      "cell_type": "code",
      "source": [
        "val_acc_total"
      ],
      "metadata": {
        "colab": {
          "base_uri": "https://localhost:8080/"
        },
        "id": "0CH9rRKDk84f",
        "outputId": "a47aedbf-045f-4ca6-da64-31a7cfc00f7c"
      },
      "execution_count": null,
      "outputs": [
        {
          "output_type": "execute_result",
          "data": {
            "text/plain": [
              "[0.9056603773584906,\n",
              " 0.9245283018867925,\n",
              " 0.9423076923076923,\n",
              " 0.8846153846153846,\n",
              " 0.9807692307692307]"
            ]
          },
          "metadata": {},
          "execution_count": 218
        }
      ]
    },
    {
      "cell_type": "code",
      "source": [
        "test_pred = model.predict(test_x)"
      ],
      "metadata": {
        "id": "IiTT8q80n_xK"
      },
      "execution_count": null,
      "outputs": []
    },
    {
      "cell_type": "markdown",
      "source": [
        "## Grid Search"
      ],
      "metadata": {
        "id": "E8q8JZkwuvfU"
      }
    },
    {
      "cell_type": "code",
      "source": [
        "from sklearn.model_selection import GridSearchCV, StratifiedKFold"
      ],
      "metadata": {
        "id": "ioW6IkCru4o1"
      },
      "execution_count": null,
      "outputs": []
    },
    {
      "cell_type": "code",
      "source": [
        "parameter = {\n",
        "    'learning_rate' : [0.01, 0.1, 0.3, 0.5, 0.7], # 학습률 수정\n",
        "    'max_depth' : [5, 7, 10, 30, 50],           # 트리 깊이 제한\n",
        "    'subsample' : [0.5, 0.7, 1],        # subsample 비율에 따라 부분 추출\n",
        "    'n_estimators' : [200, 300, 500, 1000]   # 트리 개수\n",
        "}"
      ],
      "metadata": {
        "id": "KC9ETTajuwt7"
      },
      "execution_count": null,
      "outputs": []
    },
    {
      "cell_type": "code",
      "source": [
        "model = xgb.XGBClassifier()"
      ],
      "metadata": {
        "id": "CA15apTluwqb"
      },
      "execution_count": null,
      "outputs": []
    },
    {
      "cell_type": "code",
      "source": [
        "# 모델, 파라미터 dict, n_jobs, scoring='f1', cv= kfold -> folding 횟수\n",
        "gs_model = GridSearchCV(\n",
        "    estimator = model, param_grid = parameter, scoring='f1_macro', cv=5\n",
        ")"
      ],
      "metadata": {
        "id": "DB8U3VANuwmk"
      },
      "execution_count": null,
      "outputs": []
    },
    {
      "cell_type": "code",
      "source": [
        "gs_model.fit(train_x, train_y)"
      ],
      "metadata": {
        "colab": {
          "base_uri": "https://localhost:8080/"
        },
        "id": "oLDjMUOHuwej",
        "outputId": "d43edb33-916b-43be-90eb-6f44e738ac9c"
      },
      "execution_count": null,
      "outputs": [
        {
          "output_type": "execute_result",
          "data": {
            "text/plain": [
              "GridSearchCV(cv=5, estimator=XGBClassifier(),\n",
              "             param_grid={'learning_rate': [0.01, 0.1, 0.3, 0.5, 0.7],\n",
              "                         'max_depth': [5, 7, 10, 30, 50],\n",
              "                         'n_estimators': [200, 300, 500, 1000],\n",
              "                         'subsample': [0.5, 0.7, 1]},\n",
              "             scoring='f1_macro')"
            ]
          },
          "metadata": {},
          "execution_count": 252
        }
      ]
    },
    {
      "cell_type": "code",
      "source": [
        "test_pred = gs_model.predict(test_x)"
      ],
      "metadata": {
        "id": "8koOsIRswqZt"
      },
      "execution_count": null,
      "outputs": []
    },
    {
      "cell_type": "code",
      "source": [
        "print(gs_model.best_params_)\n",
        "print(gs_model.best_score_)"
      ],
      "metadata": {
        "colab": {
          "base_uri": "https://localhost:8080/"
        },
        "id": "1rgUjs2kv9i9",
        "outputId": "ba778a2b-7f5a-4720-f9dc-30148513b5c3"
      },
      "execution_count": null,
      "outputs": [
        {
          "output_type": "stream",
          "name": "stdout",
          "text": [
            "{'learning_rate': 0.01, 'max_depth': 5, 'n_estimators': 1000, 'subsample': 0.5}\n",
            "0.9429624294368739\n"
          ]
        }
      ]
    },
    {
      "cell_type": "markdown",
      "source": [
        "# Submission"
      ],
      "metadata": {
        "id": "krbvEHL8KPKX"
      }
    },
    {
      "cell_type": "code",
      "source": [
        "submit = pd.read_csv('/content/gdrive/MyDrive/Project/Dacon_SNP/dataset/sample_submission.csv')"
      ],
      "metadata": {
        "id": "-dMRUVwTKXin"
      },
      "execution_count": null,
      "outputs": []
    },
    {
      "cell_type": "code",
      "source": [
        "submit['class'] = class_le.inverse_transform(test_pred)"
      ],
      "metadata": {
        "id": "ubG-NYkXKcYA"
      },
      "execution_count": null,
      "outputs": []
    },
    {
      "cell_type": "code",
      "source": [
        "submit.to_csv('/content/gdrive/MyDrive/Project/Dacon_SNP/dataset/submit.csv', index=False)"
      ],
      "metadata": {
        "id": "kwXVWxk-Kfdv"
      },
      "execution_count": null,
      "outputs": []
    },
    {
      "cell_type": "code",
      "source": [],
      "metadata": {
        "id": "yv8seJ8LoCKO"
      },
      "execution_count": null,
      "outputs": []
    }
  ]
}