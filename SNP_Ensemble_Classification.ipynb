{
  "nbformat": 4,
  "nbformat_minor": 0,
  "metadata": {
    "colab": {
      "private_outputs": true,
      "provenance": [],
      "authorship_tag": "ABX9TyPl7Jl3O5tx495mpHbiTtXP",
      "include_colab_link": true
    },
    "kernelspec": {
      "name": "python3",
      "display_name": "Python 3"
    },
    "language_info": {
      "name": "python"
    }
  },
  "cells": [
    {
      "cell_type": "markdown",
      "metadata": {
        "id": "view-in-github",
        "colab_type": "text"
      },
      "source": [
        "<a href=\"https://colab.research.google.com/github/Byeon-MJ/Dacon_SNP_Repo/blob/main/SNP_Ensemble_Classification.ipynb\" target=\"_parent\"><img src=\"https://colab.research.google.com/assets/colab-badge.svg\" alt=\"Open In Colab\"/></a>"
      ]
    },
    {
      "cell_type": "markdown",
      "source": [
        "## Module Import"
      ],
      "metadata": {
        "id": "dCifQHUBwaW4"
      }
    },
    {
      "cell_type": "code",
      "execution_count": null,
      "metadata": {
        "id": "L2ZmW5bpvOXJ"
      },
      "outputs": [],
      "source": [
        "import numpy as np\n",
        "import pandas as pd\n",
        "import matplotlib.pyplot as plt\n",
        "import seaborn as sns\n",
        "import random\n",
        "import os\n",
        "\n",
        "from sklearn.ensemble import RandomForestClassifier, AdaBoostClassifier\n",
        "from xgboost import XGBClassifier\n",
        "from lightgbm import LGBMClassifier\n",
        "from sklearn.linear_model import LogisticRegression\n",
        "\n",
        "from sklearn.model_selection import train_test_split, cross_val_score, KFold\n",
        "from sklearn.metrics import accuracy_score, mean_absolute_error, f1_score\n",
        "from sklearn import preprocessing"
      ]
    },
    {
      "cell_type": "code",
      "source": [
        "from google.colab import drive\n",
        "drive.mount('/content/gdrive')"
      ],
      "metadata": {
        "id": "-0lqZc5twDKC"
      },
      "execution_count": null,
      "outputs": []
    },
    {
      "cell_type": "markdown",
      "source": [
        "## Seed 고정"
      ],
      "metadata": {
        "id": "ifR2eEBawyQh"
      }
    },
    {
      "cell_type": "code",
      "source": [
        "class CFG:\n",
        "    SEED = 42"
      ],
      "metadata": {
        "id": "F4rSuIRnw0AJ"
      },
      "execution_count": null,
      "outputs": []
    },
    {
      "cell_type": "code",
      "source": [
        "def seed_everything(seed):\n",
        "    random.seed(seed)\n",
        "    os.environ['PYTHONHASHSEED'] = str(seed)\n",
        "    np.random.seed(seed)\n",
        "seed_everything(CFG.SEED) # Seed 고정"
      ],
      "metadata": {
        "id": "FbN2cnD9w0kB"
      },
      "execution_count": null,
      "outputs": []
    },
    {
      "cell_type": "markdown",
      "source": [
        "## DataSet Load"
      ],
      "metadata": {
        "id": "UNYpL7YtwWqJ"
      }
    },
    {
      "cell_type": "code",
      "source": [
        "train = pd.read_csv('/content/gdrive/MyDrive/Project/Dacon_SNP/dataset/train.csv')\n",
        "test = pd.read_csv('/content/gdrive/MyDrive/Project/Dacon_SNP/dataset/test.csv')\n",
        "info = pd.read_csv('/content/gdrive/MyDrive/Project/Dacon_SNP/dataset/snp_info.csv')"
      ],
      "metadata": {
        "id": "pqG9Dvw2wECR"
      },
      "execution_count": null,
      "outputs": []
    },
    {
      "cell_type": "code",
      "source": [
        "def get_x_y(df):\n",
        "    if 'class' in df.columns:\n",
        "        df_x = df.drop(columns=['id', 'class'])\n",
        "        df_y = df['class']\n",
        "        return df_x, df_y\n",
        "    else:\n",
        "        df_x = df.drop(columns=['id'])\n",
        "        return df_x"
      ],
      "metadata": {
        "id": "QeqSRDC8wIYI"
      },
      "execution_count": null,
      "outputs": []
    },
    {
      "cell_type": "code",
      "source": [
        "train_x, train_y = get_x_y(train)\n",
        "test_x = get_x_y(test)"
      ],
      "metadata": {
        "id": "OtnqH7YcwKZA"
      },
      "execution_count": null,
      "outputs": []
    },
    {
      "cell_type": "markdown",
      "source": [
        "## Label Encoding"
      ],
      "metadata": {
        "id": "Uik2hXUgwSjL"
      }
    },
    {
      "cell_type": "code",
      "source": [
        "class_le = preprocessing.LabelEncoder()\n",
        "snp_le = preprocessing.LabelEncoder()\n",
        "snp_col = [f'SNP_{str(x).zfill(2)}' for x in range(1,16)]"
      ],
      "metadata": {
        "id": "pIc4ProOwLWp"
      },
      "execution_count": null,
      "outputs": []
    },
    {
      "cell_type": "code",
      "source": [
        "train_data = []\n",
        "for col in snp_col:\n",
        "    train_data += list(train_x[col].values)"
      ],
      "metadata": {
        "id": "i8_7iVLAwQrh"
      },
      "execution_count": null,
      "outputs": []
    },
    {
      "cell_type": "code",
      "source": [
        "train_y = class_le.fit_transform(train_y)\n",
        "snp_le.fit(train_data)"
      ],
      "metadata": {
        "id": "x81rncFswR34"
      },
      "execution_count": null,
      "outputs": []
    },
    {
      "cell_type": "code",
      "source": [
        "for col in train_x.columns:\n",
        "    if col in snp_col:\n",
        "        train_x[col] = snp_le.transform(train_x[col])\n",
        "        test_x[col] = snp_le.transform(test_x[col])"
      ],
      "metadata": {
        "id": "rgM2C7fwwfPA"
      },
      "execution_count": null,
      "outputs": []
    },
    {
      "cell_type": "markdown",
      "source": [
        "## Data Split"
      ],
      "metadata": {
        "id": "oypxgctYwglI"
      }
    },
    {
      "cell_type": "code",
      "source": [
        "X_train, X_val, y_train, y_val = train_test_split(\n",
        "    train_x, train_y, test_size=0.2)"
      ],
      "metadata": {
        "id": "KgLLXuxVwjKg"
      },
      "execution_count": null,
      "outputs": []
    },
    {
      "cell_type": "markdown",
      "source": [
        "## 개별 ML 모델 생성"
      ],
      "metadata": {
        "id": "FRY2RsqCw3n5"
      }
    },
    {
      "cell_type": "code",
      "source": [
        "rf_clf = RandomForestClassifier(n_estimators=100)\n",
        "ada_clf = AdaBoostClassifier(n_estimators=100)\n",
        "xgb_clf = XGBClassifier(n_estimators=100)\n",
        "lgb_clf = LGBMClassifier(n_estimators=100)\n",
        "\n",
        "lr_final = LogisticRegression()"
      ],
      "metadata": {
        "id": "341ZXNRIxDvJ"
      },
      "execution_count": null,
      "outputs": []
    },
    {
      "cell_type": "markdown",
      "source": [
        "## 개별 모델 학습"
      ],
      "metadata": {
        "id": "TncbBxmbxZlh"
      }
    },
    {
      "cell_type": "code",
      "source": [
        "rf_clf.fit(X_train, y_train)\n",
        "ada_clf.fit(X_train, y_train)\n",
        "xgb_clf.fit(X_train, y_train)\n",
        "lgb_clf.fit(X_train, y_train)"
      ],
      "metadata": {
        "id": "Ax0X8lVLxdJx"
      },
      "execution_count": null,
      "outputs": []
    },
    {
      "cell_type": "markdown",
      "source": [
        "## 예측 데이터 세트 생성, 개별 모델 정확도 측정"
      ],
      "metadata": {
        "id": "hIdzUFH-xibX"
      }
    },
    {
      "cell_type": "code",
      "source": [
        "rf_pred = rf_clf.predict(X_val)\n",
        "ada_pred = ada_clf.predict(X_val)\n",
        "xgb_pred = xgb_clf.predict(X_val)\n",
        "lgb_pred = lgb_clf.predict(X_val)\n",
        "print('랜덤 포레스트 정확도: {0:.4f}'.format(accuracy_score(y_val, rf_pred)))\n",
        "print('에이다부스트 정확도: {0:.4f}'.format(accuracy_score(y_val, ada_pred)))\n",
        "print('XGBoost 정확도: {0:.4f}'.format(accuracy_score(y_val, xgb_pred)))\n",
        "print('LightGBM 정확도: {0:.4f}'.format(accuracy_score(y_val, lgb_pred)))"
      ],
      "metadata": {
        "id": "FtyzIuHaxnFw"
      },
      "execution_count": null,
      "outputs": []
    },
    {
      "cell_type": "code",
      "source": [
        "pred = np.array([rf_pred, ada_pred, xgb_pred, lgb_pred])\n",
        "print(pred.shape)"
      ],
      "metadata": {
        "id": "JeMil8i6yI5p"
      },
      "execution_count": null,
      "outputs": []
    },
    {
      "cell_type": "code",
      "source": [
        "pred = np.transpose(pred)\n",
        "print(pred.shape)"
      ],
      "metadata": {
        "id": "csBEjgW4yTqg"
      },
      "execution_count": null,
      "outputs": []
    },
    {
      "cell_type": "code",
      "source": [
        "lr_final.fit(pred, y_val)\n",
        "final = lr_final.predict(pred)\n",
        "\n",
        "print('최종 메타 모델의 예측 정확도: {0:.4f}'.format(accuracy_score(y_val, final)))"
      ],
      "metadata": {
        "id": "1HCe78FtyXVY"
      },
      "execution_count": null,
      "outputs": []
    },
    {
      "cell_type": "code",
      "source": [],
      "metadata": {
        "id": "WsgB8-t0zUoY"
      },
      "execution_count": null,
      "outputs": []
    },
    {
      "cell_type": "markdown",
      "source": [
        "# Submision"
      ],
      "metadata": {
        "id": "KrJqvDeBzUhY"
      }
    },
    {
      "cell_type": "code",
      "source": [
        "rf_pred = rf_clf.predict(test_x)\n",
        "ada_pred = ada_clf.predict(test_x)\n",
        "xgb_pred = xgb_clf.predict(test_x)\n",
        "lgb_pred = lgb_clf.predict(test_x)\n",
        "\n",
        "pred = np.array([rf_pred, ada_pred, xgb_pred, lgb_pred])\n",
        "pred = np.transpose(pred)\n",
        "\n",
        "test_pred = lr_final.predict(pred)"
      ],
      "metadata": {
        "id": "LNIR5lKPzUdj"
      },
      "execution_count": null,
      "outputs": []
    },
    {
      "cell_type": "code",
      "source": [
        "submit = pd.read_csv('/content/gdrive/MyDrive/Project/Dacon_SNP/dataset/sample_submission.csv')"
      ],
      "metadata": {
        "id": "-dMRUVwTKXin"
      },
      "execution_count": null,
      "outputs": []
    },
    {
      "cell_type": "code",
      "source": [
        "submit['class'] = class_le.inverse_transform(test_pred)"
      ],
      "metadata": {
        "id": "ubG-NYkXKcYA"
      },
      "execution_count": null,
      "outputs": []
    },
    {
      "cell_type": "code",
      "source": [
        "submit.to_csv('/content/gdrive/MyDrive/Project/Dacon_SNP/dataset/submit.csv', index=False)"
      ],
      "metadata": {
        "id": "kwXVWxk-Kfdv"
      },
      "execution_count": null,
      "outputs": []
    },
    {
      "cell_type": "markdown",
      "source": [
        "## 최종 메타 모델이 사용할 학습 및 테스트옹 데이터 생성 함수"
      ],
      "metadata": {
        "id": "IobiSV7fz2nA"
      }
    },
    {
      "cell_type": "code",
      "source": [
        "def get_stacking_base_datasets(model, X_train_n, y_train_n, X_test_n, n_folds):\n",
        "    # KFold 생성\n",
        "    kf = KFold(n_splits=n_folds, shuffle=False)\n",
        "    \n",
        "    # 학습 데이터 반환을 위한 넘파이 배열 초기화\n",
        "    train_fold_pred = np.zeros((X_train_n.shape[0], 1 ))\n",
        "    test_pred = np.zeros((X_test_n.shape[0], n_folds))\n",
        "    print(model.__class__.__name__, ' model 시작 ')\n",
        "\n",
        "    for folder_counter, (train_index, valid_index) in enumerate(kf.split(X_train_n)):\n",
        "        # 입력된 학습 데이터에서 기반 모델이 학습/예측할 폴드 데이터 세트 추출\n",
        "        print('\\t 폴드 세트: ', folder_counter, ' 시작 ')\n",
        "        X_tr = X_train_n.iloc[train_index]\n",
        "        y_tr = y_train_n[train_index]\n",
        "        X_te = X_train_n.iloc[valid_index]\n",
        "\n",
        "        # 폴드 세트 내부에서 다시 만들어진 학습 데이터로 기반 모델 학습 수행\n",
        "        model.fit(X_tr, y_tr)\n",
        "        # 폴드 세트 내부에서 다시 만들어진 검증 데이터로 기반 모델 예측 후 데이터 저장\n",
        "        train_fold_pred[valid_index, :] = model.predict(X_te).reshape(-1, 1)\n",
        "        # 입력된 원본 테스트 데이터를 폴드 세트내 학습된 기반 모델에서 예측 후 데이터 저장\n",
        "        test_pred[:, folder_counter] = model.predict(X_test_n)\n",
        "\n",
        "    # 폴드 세트 내에서 원본 테스트 데이터를 예측한 데이터를 평균하여 테스트 데이터로 생성\n",
        "    test_pred_mead = np.mean(test_pred, axis=1).reshape(-1, 1)\n",
        "\n",
        "    # train_fold_pred는 최종 메타 모델이 사용하는 학습 데이터, test_pred_mean은 테스트 데이터\n",
        "    return train_fold_pred, test_pred_mead"
      ],
      "metadata": {
        "id": "wxOMZIAg0vKY"
      },
      "execution_count": null,
      "outputs": []
    },
    {
      "cell_type": "code",
      "source": [
        "rf_clf = RandomForestClassifier(n_estimators=100)\n",
        "ada_clf = AdaBoostClassifier(n_estimators=100)\n",
        "xgb_clf = XGBClassifier(n_estimators=100)\n",
        "lgb_clf = LGBMClassifier(n_estimators=100)\n",
        "\n",
        "lr_final = LogisticRegression()"
      ],
      "metadata": {
        "id": "hi47mjoZ2B8v"
      },
      "execution_count": null,
      "outputs": []
    },
    {
      "cell_type": "code",
      "source": [
        "rf_train, rf_test = get_stacking_base_datasets(rf_clf, train_x, train_y, test_x, 7)\n",
        "ada_train, ada_test = get_stacking_base_datasets(ada_clf, train_x, train_y, test_x, 7)\n",
        "xgb_train, xgb_test = get_stacking_base_datasets(xgb_clf, train_x, train_y, test_x, 7)\n",
        "lgb_train, lgb_test = get_stacking_base_datasets(lgb_clf, train_x, train_y, test_x, 7)"
      ],
      "metadata": {
        "id": "Z3dVgWn52V8u"
      },
      "execution_count": null,
      "outputs": []
    },
    {
      "cell_type": "code",
      "source": [
        "Stack_final_X_train = np.concatenate((rf_train, ada_train, xgb_train, lgb_train), axis=1)\n",
        "Stack_final_X_test = np.concatenate((rf_test, ada_test, xgb_test, lgb_test), axis=1)"
      ],
      "metadata": {
        "id": "wDM-L2Vt3dlA"
      },
      "execution_count": null,
      "outputs": []
    },
    {
      "cell_type": "code",
      "source": [
        "lr_final.fit(Stack_final_X_train, train_y)\n",
        "stack_final = lr_final.predict(Stack_final_X_test)"
      ],
      "metadata": {
        "id": "-tJXxA2t5VVF"
      },
      "execution_count": null,
      "outputs": []
    },
    {
      "cell_type": "markdown",
      "source": [
        "## Submission"
      ],
      "metadata": {
        "id": "KXub8GdH6FWo"
      }
    },
    {
      "cell_type": "code",
      "source": [
        "test_pred = lr_final.predict(Stack_final_X_test)"
      ],
      "metadata": {
        "id": "MCe15bjP5ra8"
      },
      "execution_count": null,
      "outputs": []
    },
    {
      "cell_type": "code",
      "source": [
        "submit = pd.read_csv('/content/gdrive/MyDrive/Project/Dacon_SNP/dataset/sample_submission.csv')"
      ],
      "metadata": {
        "id": "EnPpUD5-6AVv"
      },
      "execution_count": null,
      "outputs": []
    },
    {
      "cell_type": "code",
      "source": [
        "submit['class'] = class_le.inverse_transform(test_pred)"
      ],
      "metadata": {
        "id": "w1OFuxZl6AVx"
      },
      "execution_count": null,
      "outputs": []
    },
    {
      "cell_type": "code",
      "source": [
        "submit.to_csv('/content/gdrive/MyDrive/Project/Dacon_SNP/dataset/submit.csv', index=False)"
      ],
      "metadata": {
        "id": "xyxN8Lg96AVx"
      },
      "execution_count": null,
      "outputs": []
    },
    {
      "cell_type": "code",
      "source": [],
      "metadata": {
        "id": "s-O640P16N6U"
      },
      "execution_count": null,
      "outputs": []
    }
  ]
}